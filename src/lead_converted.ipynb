{
 "cells": [
  {
   "cell_type": "code",
   "execution_count": 25,
   "metadata": {
    "collapsed": false,
    "deletable": true,
    "editable": true
   },
   "outputs": [],
   "source": [
    "import os\n",
    "import numpy as np\n",
    "import pandas as pd\n",
    "import re\n",
    "from pandas.tseries.offsets import BMonthEnd\n",
    "from dateutil.relativedelta import relativedelta\n",
    "import pymssql\n",
    "import beatbox\n",
    "from datetime import datetime as dt\n",
    "import matplotlib.pyplot as plt\n",
    "import matplotlib.ticker as mtick\n",
    "%matplotlib inline "
   ]
  },
  {
   "cell_type": "code",
   "execution_count": 2,
   "metadata": {
    "collapsed": true,
    "deletable": true,
    "editable": true
   },
   "outputs": [],
   "source": [
    "import seaborn as sns\n",
    "sns.set_style('whitegrid')\n",
    "import plotly\n",
    "import plotly.plotly as py\n",
    "import plotly.graph_objs as go\n",
    "import plotly.figure_factory as ff\n",
    "import colorlover as cl\n",
    "from IPython.display import HTML"
   ]
  },
  {
   "cell_type": "code",
   "execution_count": 3,
   "metadata": {
    "collapsed": false,
    "deletable": true,
    "editable": true
   },
   "outputs": [
    {
     "name": "stderr",
     "output_type": "stream",
     "text": [
      "/Users/Gabi/.virtualenvs/analysis/lib/python2.7/site-packages/sklearn/cross_validation.py:44: DeprecationWarning:\n",
      "\n",
      "This module was deprecated in version 0.18 in favor of the model_selection module into which all the refactored classes and functions are moved. Also note that the interface of the new CV iterators are different from that of this module. This module will be removed in 0.20.\n",
      "\n"
     ]
    }
   ],
   "source": [
    "from sklearn.utils import shuffle\n",
    "from sklearn.cross_validation import train_test_split\n",
    "from sklearn.tree import DecisionTreeClassifier\n",
    "from sklearn.metrics import classification_report\n",
    "from sklearn.preprocessing import LabelEncoder\n",
    "from sklearn import cross_validation, tree\n",
    "from sklearn.ensemble import RandomForestClassifier\n",
    "from sklearn.metrics import confusion_matrix, classification_report\n",
    "from sklearn import svm\n",
    "\n",
    "from sklearn.linear_model import LogisticRegression"
   ]
  },
  {
   "cell_type": "code",
   "execution_count": 4,
   "metadata": {
    "collapsed": true,
    "deletable": true,
    "editable": true
   },
   "outputs": [],
   "source": [
    "def plot_confusion_matrix(cm, title='Confusion matrix', cmap=plt.cm.Blues):\n",
    "    '''\n",
    "    Helper function to plot confusion matrix to assess model results\n",
    "    '''\n",
    "    plt.imshow(cm, interpolation='nearest', cmap=cmap)\n",
    "    plt.title(title)\n",
    "    plt.colorbar()\n",
    "    tick_marks = np.arange(len(target_names))\n",
    "    plt.xticks(tick_marks, target_names, rotation=45)\n",
    "    plt.yticks(tick_marks, target_names)\n",
    "    plt.tight_layout()\n",
    "    plt.ylabel('True label')\n",
    "    plt.xlabel('Predicted label')\n",
    "\n",
    "\n",
    "def get_confusion_matrix(actual_y, predicted_y):\n",
    "    '''\n",
    "    Helper function to nicely print confusion matrix\n",
    "    '''\n",
    "    confusion_index =  ['NotConverted-Actual','Converted-Actual']\n",
    "    confusion_cols = ['NotConverted-Predicted','Converted-Predicted']\n",
    "    confusion_df = pd.DataFrame(confusion_matrix(actual_y, predicted_y), index = confusion_index, columns = confusion_cols)\n",
    "    return confusion_df"
   ]
  },
  {
   "cell_type": "code",
   "execution_count": 29,
   "metadata": {
    "collapsed": false,
    "deletable": true,
    "editable": true
   },
   "outputs": [],
   "source": [
    "os.getcwd()\n",
    "data_dir = '/Users/Gabi/Documents/projects/opps_model/similarity_model/data/'"
   ]
  },
  {
   "cell_type": "code",
   "execution_count": 6,
   "metadata": {
    "collapsed": false,
    "deletable": true,
    "editable": true
   },
   "outputs": [],
   "source": [
    "%run 'loadvar.py'"
   ]
  },
  {
   "cell_type": "code",
   "execution_count": 12,
   "metadata": {
    "collapsed": false,
    "deletable": true,
    "editable": true
   },
   "outputs": [],
   "source": [
    "%run 'title_functions.py'"
   ]
  },
  {
   "cell_type": "code",
   "execution_count": 185,
   "metadata": {
    "collapsed": true,
    "deletable": true,
    "editable": true
   },
   "outputs": [],
   "source": [
    "# lead data\n",
    "q = \"select l.FirstName, l.LastName, l.Title, l.Title_Score__c, l.Job_Title_Match__c, l.email, \"\n",
    "q += \"l.CreatedDate, l.IsConverted, l.CountryCode, l.CurrencyIsoCode, l.Number_of_Employees__c, \"\n",
    "q += \"l.Department__c, l.Eloqua_Score_Card__c, l.Communication_Status__c, l.Community_Registered_User__c, \"\n",
    "q += \"l.University_Registered_User__c, l.University_Steward__c, l.HasOptedOutofEmail, \"\n",
    "q+=  \"l.Industry, l.Industry_Wave__c, l.Company, \"\n",
    "q += \"l.Last_Responded_Campaign_Type__c, l.Last_Responded_Date__c, l.LastActivityDate, l.LastModifiedDate, l.Latest_Campaign__c, \"\n",
    "q += \"l.Lead_Type__c, l.LeadSource, l.LeanData__Reporting_Matched_Account__c, \"\n",
    "q += \"l.LeanData_Matched_Account_Owner__c, l.LeanData_Matched_US_Region__c, l.Managed_By__c, \"\n",
    "q += \"l.OwnerId, u.Name as lead_owner, u.Division as lead_owner_division, u.Department as lead_owner_dept, \"\n",
    "q += \"l.Phone, l.Phone_No_2__c, l.Previously_Active_Sequence__c, l.Use_Case__c, l.Website \"\n",
    "q += \"from dbo.Lead l \"\n",
    "q += \"inner join dbo.[User] as u \"\n",
    "q += 'on l.OwnerId = u.Id'"
   ]
  },
  {
   "cell_type": "code",
   "execution_count": 186,
   "metadata": {
    "collapsed": true,
    "deletable": true,
    "editable": true
   },
   "outputs": [],
   "source": [
    "conn_SF = login_salesforce()"
   ]
  },
  {
   "cell_type": "code",
   "execution_count": 187,
   "metadata": {
    "collapsed": false,
    "deletable": true,
    "editable": true
   },
   "outputs": [],
   "source": [
    "lead_data = get_SF_data(connection=conn_SF, query_string=q)"
   ]
  },
  {
   "cell_type": "code",
   "execution_count": 190,
   "metadata": {
    "collapsed": false,
    "deletable": true,
    "editable": true
   },
   "outputs": [
    {
     "data": {
      "text/plain": [
       "Index([u'FirstName', u'LastName', u'Title', u'Title_Score__c',\n",
       "       u'Job_Title_Match__c', u'email', u'CreatedDate', u'IsConverted',\n",
       "       u'CountryCode', u'CurrencyIsoCode', u'Number_of_Employees__c',\n",
       "       u'Department__c', u'Eloqua_Score_Card__c', u'Communication_Status__c',\n",
       "       u'Community_Registered_User__c', u'University_Registered_User__c',\n",
       "       u'University_Steward__c', u'HasOptedOutofEmail', u'Industry',\n",
       "       u'Industry_Wave__c', u'Company', u'Last_Responded_Campaign_Type__c',\n",
       "       u'Last_Responded_Date__c', u'LastActivityDate', u'LastModifiedDate',\n",
       "       u'Latest_Campaign__c', u'Lead_Type__c', u'LeadSource',\n",
       "       u'LeanData__Reporting_Matched_Account__c',\n",
       "       u'LeanData_Matched_Account_Owner__c', u'LeanData_Matched_US_Region__c',\n",
       "       u'Managed_By__c', u'OwnerId', u'lead_owner', u'lead_owner_division',\n",
       "       u'lead_owner_dept', u'Phone', u'Phone_No_2__c',\n",
       "       u'Previously_Active_Sequence__c', u'Use_Case__c', u'Website'],\n",
       "      dtype='object')"
      ]
     },
     "execution_count": 190,
     "metadata": {},
     "output_type": "execute_result"
    }
   ],
   "source": [
    "lead_data.columns"
   ]
  },
  {
   "cell_type": "code",
   "execution_count": 197,
   "metadata": {
    "collapsed": false,
    "deletable": true,
    "editable": true
   },
   "outputs": [],
   "source": [
    "today = dt.today()"
   ]
  },
  {
   "cell_type": "code",
   "execution_count": 201,
   "metadata": {
    "collapsed": false,
    "deletable": true,
    "editable": true
   },
   "outputs": [],
   "source": [
    "'''\n",
    "    Data Cleaning\n",
    "'''\n",
    "\n",
    "df_leads = lead_data.copy()\n",
    "\n",
    "# remove columns where more than 70% info is missing\n",
    "empty_cols = pd.DataFrame(data = df_leads.isnull().sum()/df_leads.shape[0], columns = ['perc_empty'])\n",
    "empty_cols = empty_cols.reset_index()\n",
    "cols_remove = empty_cols[empty_cols.perc_empty >.7]['index']\n",
    "df_leads = df_leads.drop(cols_remove, axis=1)\n",
    "\n",
    "# add grouped industry\n",
    "df_leads['grouped_industry'] = df_leads.Industry.map(lambda x: industry_map.get(x,'Other'))\n",
    "# add updated lead source\n",
    "df_leads['lead_source_updated'] = df_leads.LeadSource.map(lambda x: lead_source_mapping.get(x))\n",
    "\n",
    "# add if there is a lean Data account\n",
    "df_leads['has_leanData_acct'] = [0 if pd.isnull(i) else 1 for i in df_leads.LeanData__Reporting_Matched_Account__c]\n",
    "# add if there is a phone number\n",
    "df_leads['has_phone'] = [0 if pd.isnull(i) else 1 for i in df_leads.Phone]\n",
    "#df_leads.Phone.str.replace('\\+1.','').value_counts().tail()\n",
    "\n",
    "# is email in blacklist (gmail, yahoo...)\n",
    "df_leads['email_sig'] = ['Missing' if (i == None or pd.isnull(i)) else i for i in df_leads.email]\n",
    "df_leads['email_sig'] = ['Missing' if i =='Missing' else re.findall('@.+', i)[0] for i in df_leads.email_sig]\n",
    "df_leads['email_sig'] = df_leads.email_sig.map(lambda  x: x.replace('@', ''))\n",
    "\n",
    "df_leads['email_blacklisted'] = [1 if i in blacklist else 0 for i in df_leads.email_sig]\n",
    "\n",
    "\n",
    "# convert dates\n",
    "df_leads.CreatedDate = df_leads.CreatedDate.map(lambda  x: np.datetime64(x))\n",
    "\n",
    "# add quarter created\n",
    "df_leads['quarterCreated'] = df_leads.CreatedDate.dt.to_period('Q-SEP')\n",
    "\n",
    "# did lead respond more than 2 weeks ago?\n",
    "# two_wks_ago = today - relativedelta(weeks = 2)\n",
    "# df_leads['responded_over_2wks_ago'] = df_leads.Last_Responded_Date__c < two_wks_ago\n",
    "\n",
    "# # did lead respond more than 6 months ago?\n",
    "# six_months_ago = today - relativedelta(months = 6)\n",
    "# df_leads['responded_over_6months_ago'] = df_leads.Last_Responded_Date__c < six_months_ago\n",
    "\n",
    "# was lead active more than 2 weeks ago?\n",
    "# two_wks_ago = today - relativedelta(weeks = 2)\n",
    "# df_leads['active_over_2wks_ago'] = df_leads.LastModifiedDate < two_wks_ago\n",
    "# # was lead active more than 4 weeks ago?\n",
    "# four_wks_ago = today - relativedelta(weeks = 4)\n",
    "# df_leads['active_over_4wks_ago'] = df_leads.LastModifiedDate < four_wks_ago\n",
    "# # was lead active more than 6 weeks ago?\n",
    "# six_wks_ago = today - relativedelta(weeks = 6)\n",
    "# df_leads['active_over_6wks_ago'] = df_leads.LastModifiedDate < six_wks_ago\n",
    "\n",
    "# is 1st name missing\n",
    "df_leads.FirstName = ['incomplete' if pd.isnull(i) else i for i in df_leads.FirstName]\n",
    "df_leads['missing_firstname'] = [1 if pd.isnull(i) else 0 for i in df_leads.FirstName]\n",
    "\n",
    "# title scores into bins\n",
    "df_leads.Title_Score__c = [np.int(i) if not pd.isnull(i) else -500 for i in df_leads.Title_Score__c]\n",
    "df_leads['title_score_bin'] = pd.cut(df_leads.Title_Score__c, bins = 10, right = False)\n",
    "\n",
    "\n",
    "# is title missing\n",
    "df_leads['Title'] = ['No title' if pd.isnull(i) else i for i in df_leads.Title]\n",
    "df_leads['missing_title'] = [1 if pd.isnull(i) else 0 for i in df_leads.Title]\n",
    "\n",
    "# Y - response\n",
    "df_leads['IsConverted_2'] = [1 if i == 'true' else 0 for i in df_leads.IsConverted]\n",
    "\n",
    "# fix number of employees\n",
    "num_emp_dict ={\n",
    "    '1-100': 'less_than_100',\n",
    "    '101-500': 'less_than_500',\n",
    "    '501-1,500': 'less_than_1500',\n",
    "    '1,501-5,000': 'less_than_50k',\n",
    "    '5,001-10,000': 'less_than_10k',\n",
    "    '10000+': 'more_than_10k',\n",
    "    '10,001+': 'more_than_10k',\n",
    "    'missing': 'missing_emp',\n",
    "    'Unknown': 'missing_emp'\n",
    "}\n",
    "df_leads['num_emp'] = df_leads.Number_of_Employees__c.map(lambda x: num_emp_dict.get(x))\n",
    "df_leads.drop(['Number_of_Employees__c','Phone', 'email','FirstName'],axis =1,inplace=True)\n",
    "\n",
    "#cols_created = ['has_leanData_acct', 'has_phone','email_blacklisted','missing_firstname', 'missing_title']"
   ]
  },
  {
   "cell_type": "code",
   "execution_count": 202,
   "metadata": {
    "collapsed": false,
    "deletable": true,
    "editable": true
   },
   "outputs": [],
   "source": [
    "df_leads['job_level'] = df_leads.Title.map(lambda title: get_title_points(title=title, \n",
    "                                                                          level_list= levels, **title_mapping_args)[0])"
   ]
  },
  {
   "cell_type": "code",
   "execution_count": 203,
   "metadata": {
    "collapsed": false,
    "deletable": true,
    "editable": true
   },
   "outputs": [
    {
     "data": {
      "text/plain": [
       "manager                   1304\n",
       "individual contributer     892\n",
       "director                   697\n",
       "vp                         532\n",
       "c-level                    346\n",
       "consultant                 336\n",
       "department head            130\n",
       "Name: job_level, dtype: int64"
      ]
     },
     "execution_count": 203,
     "metadata": {},
     "output_type": "execute_result"
    }
   ],
   "source": [
    "df_leads.job_level.value_counts()"
   ]
  },
  {
   "cell_type": "code",
   "execution_count": 204,
   "metadata": {
    "collapsed": false,
    "deletable": true,
    "editable": true
   },
   "outputs": [
    {
     "data": {
      "text/plain": [
       "0.91862095457601078"
      ]
     },
     "execution_count": 204,
     "metadata": {},
     "output_type": "execute_result"
    }
   ],
   "source": [
    "(df_leads.job_level.isnull().sum())/(df_leads.shape[0]*1.0)"
   ]
  },
  {
   "cell_type": "code",
   "execution_count": 214,
   "metadata": {
    "collapsed": false,
    "deletable": true,
    "editable": true
   },
   "outputs": [
    {
     "data": {
      "text/plain": [
       "LastName                                          object\n",
       "Title                                             object\n",
       "Title_Score__c                                     int64\n",
       "CreatedDate                               datetime64[ns]\n",
       "IsConverted                                       object\n",
       "CountryCode                                       object\n",
       "CurrencyIsoCode                                   object\n",
       "Eloqua_Score_Card__c                              object\n",
       "Communication_Status__c                           object\n",
       "Community_Registered_User__c                      object\n",
       "University_Registered_User__c                     object\n",
       "University_Steward__c                             object\n",
       "HasOptedOutofEmail                                object\n",
       "Industry                                          object\n",
       "Industry_Wave__c                                  object\n",
       "Company                                           object\n",
       "LastActivityDate                                  object\n",
       "LastModifiedDate                                  object\n",
       "Latest_Campaign__c                                object\n",
       "Lead_Type__c                                      object\n",
       "LeadSource                                        object\n",
       "LeanData__Reporting_Matched_Account__c            object\n",
       "LeanData_Matched_Account_Owner__c                 object\n",
       "LeanData_Matched_US_Region__c                     object\n",
       "Managed_By__c                                     object\n",
       "OwnerId                                           object\n",
       "lead_owner                                        object\n",
       "lead_owner_division                               object\n",
       "lead_owner_dept                                   object\n",
       "grouped_industry                                  object\n",
       "lead_source_updated                               object\n",
       "has_leanData_acct                                  int64\n",
       "has_phone                                          int64\n",
       "email_sig                                         object\n",
       "email_blacklisted                                  int64\n",
       "quarterCreated                                    object\n",
       "missing_firstname                                  int64\n",
       "title_score_bin                                 category\n",
       "missing_title                                      int64\n",
       "IsConverted_2                                      int64\n",
       "num_emp                                           object\n",
       "job_level                                         object\n",
       "dtype: object"
      ]
     },
     "execution_count": 214,
     "metadata": {},
     "output_type": "execute_result"
    }
   ],
   "source": [
    "df_leads.dtypes"
   ]
  },
  {
   "cell_type": "code",
   "execution_count": 206,
   "metadata": {
    "collapsed": false,
    "deletable": true,
    "editable": true
   },
   "outputs": [
    {
     "data": {
      "text/plain": [
       "0    31521\n",
       "1    20544\n",
       "Name: IsConverted_2, dtype: int64"
      ]
     },
     "execution_count": 206,
     "metadata": {},
     "output_type": "execute_result"
    }
   ],
   "source": [
    "# Label trying to predict \n",
    "df_leads.IsConverted_2.value_counts()"
   ]
  },
  {
   "cell_type": "code",
   "execution_count": 207,
   "metadata": {
    "collapsed": false,
    "deletable": true,
    "editable": true
   },
   "outputs": [
    {
     "name": "stdout",
     "output_type": "stream",
     "text": [
      "CountryCode object 7454 0.143167194853\n",
      "Eloqua_Score_Card__c object 18925 0.363487947758\n",
      "Communication_Status__c object 14157 0.27191011236\n",
      "Industry object 19149 0.367790262172\n",
      "Latest_Campaign__c object 21296 0.409027177567\n",
      "Lead_Type__c object 14135 0.271487563622\n",
      "LeadSource object 549 0.0105445116681\n",
      "LeanData__Reporting_Matched_Account__c object 28016 0.538096610007\n",
      "LeanData_Matched_Account_Owner__c object 28003 0.537846922117\n",
      "LeanData_Matched_US_Region__c object 32312 0.620608854317\n",
      "lead_owner_division object 8772 0.16848170556\n",
      "lead_owner_dept object 2713 0.0521079419956\n",
      "lead_source_updated object 572 0.010986267166\n",
      "num_emp object 31752 0.60985306828\n",
      "job_level object 47828 0.918620954576\n"
     ]
    }
   ],
   "source": [
    "# add in 'missing' for null values\n",
    "cols_dates = ['CreatedDate','LastActivityDate']\n",
    "for c in df_leads.drop(cols_dates, axis =1).columns:\n",
    "    nulls = df_leads[c].isnull().sum()\n",
    "    if nulls >0:\n",
    "        print c, df_leads[c].dtype, df_leads[c].isnull().sum(), (df_leads[c].isnull().sum()/(df_leads.shape[0]*1.0))\n",
    "        df_leads[c] = df_leads[c].fillna(str('missing_'+c))"
   ]
  },
  {
   "cell_type": "code",
   "execution_count": 208,
   "metadata": {
    "collapsed": false,
    "deletable": true,
    "editable": true
   },
   "outputs": [
    {
     "name": "stdout",
     "output_type": "stream",
     "text": [
      "no column called Status\n"
     ]
    }
   ],
   "source": [
    "# Status - I think this is filled in after conversion, cant use as predictor\n",
    "try:\n",
    "    df_leads.drop('Status',axis=1,inplace=True)\n",
    "except:\n",
    "    print \"no column called Status\"\n"
   ]
  },
  {
   "cell_type": "code",
   "execution_count": 209,
   "metadata": {
    "collapsed": true,
    "deletable": true,
    "editable": true
   },
   "outputs": [],
   "source": [
    "# look only at US Data\n",
    "df_us = df_leads[df_leads.CountryCode == 'US']\n",
    "df_us = df_us.drop(['CountryCode'],axis=1)"
   ]
  },
  {
   "cell_type": "code",
   "execution_count": 210,
   "metadata": {
    "collapsed": false,
    "deletable": true,
    "editable": true
   },
   "outputs": [
    {
     "name": "stdout",
     "output_type": "stream",
     "text": [
      "(33056, 41)\n"
     ]
    },
    {
     "data": {
      "text/plain": [
       "0    22581\n",
       "1    10475\n",
       "Name: IsConverted_2, dtype: int64"
      ]
     },
     "execution_count": 210,
     "metadata": {},
     "output_type": "execute_result"
    }
   ],
   "source": [
    "print df_us.shape\n",
    "df_us.IsConverted_2.value_counts()"
   ]
  },
  {
   "cell_type": "markdown",
   "metadata": {
    "deletable": true,
    "editable": true
   },
   "source": [
    "# Data Exploration & Visualization"
   ]
  },
  {
   "cell_type": "code",
   "execution_count": 44,
   "metadata": {
    "collapsed": false,
    "deletable": true,
    "editable": true
   },
   "outputs": [
    {
     "data": {
      "text/plain": [
       "<matplotlib.text.Text at 0x113b414d0>"
      ]
     },
     "execution_count": 44,
     "metadata": {},
     "output_type": "execute_result"
    },
    {
     "data": {
      "image/png": "[encoded data removed]",
      "text/plain": [
       "<matplotlib.figure.Figure at 0x111278d10>"
      ]
     },
     "metadata": {},
     "output_type": "display_data"
    }
   ],
   "source": [
    "'''\n",
    "\n",
    "    1) Converted vs not converted:\n",
    "        * There are more unconverted leads\n",
    "'''\n",
    "# Plot IsConverted histogram\n",
    "fig, ax = plt.subplots(ncols=1, nrows=1, figsize = (10,6))\n",
    "df_us.IsConverted.value_counts().plot(kind = 'bar', ax = ax, color = sns.color_palette(\"Greens\", n_colors=2))\n",
    "labels = [item.get_text() for item in ax.get_xticklabels()]\n",
    "ax.set_xticklabels(labels, rotation = 0)\n",
    "ax.set_title('Histogram of IsConverted')"
   ]
  },
  {
   "cell_type": "code",
   "execution_count": 45,
   "metadata": {
    "collapsed": true,
    "deletable": true,
    "editable": true
   },
   "outputs": [],
   "source": [
    "'''\n",
    "    2) Leads by source:\n",
    "        * There are more Marketing leads\n",
    "        * There is a higher percentage of sales leads that dont convert\n",
    "'''\n",
    "source_lead = df_us.groupby(['lead_source_updated']).IsConverted.value_counts()\n",
    "source_lead.index.levels[1].name = 'converted'\n",
    "source_lead.columns = ['lead_counts']"
   ]
  },
  {
   "cell_type": "code",
   "execution_count": 46,
   "metadata": {
    "collapsed": false,
    "deletable": true,
    "editable": true
   },
   "outputs": [],
   "source": [
    "source_lead = source_lead.reset_index()"
   ]
  },
  {
   "cell_type": "code",
   "execution_count": 47,
   "metadata": {
    "collapsed": false,
    "deletable": true,
    "editable": true
   },
   "outputs": [
    {
     "data": {
      "text/plain": [
       "<matplotlib.axes._subplots.AxesSubplot at 0x114117dd0>"
      ]
     },
     "execution_count": 47,
     "metadata": {},
     "output_type": "execute_result"
    },
    {
     "data": {
      "image/png": "[encoded data removed]",
      "text/plain": [
       "<matplotlib.figure.Figure at 0x1119cfc10>"
      ]
     },
     "metadata": {},
     "output_type": "display_data"
    }
   ],
   "source": [
    "fig, ax = plt.subplots(ncols=1, nrows=1, figsize = (10,6))\n",
    "sns.barplot(x = 'IsConverted', y='lead_source_updated', hue = 'converted', data = source_lead,ax=ax)"
   ]
  },
  {
   "cell_type": "code",
   "execution_count": 48,
   "metadata": {
    "collapsed": false,
    "deletable": true,
    "editable": true
   },
   "outputs": [],
   "source": [
    "'''\n",
    "    3) Leads by industry and source\n",
    "        * Marketing 'Other' industry leads convert whereas Sales 'Other' leads dont seem to convert as much\n",
    "'''\n",
    "ind_lead = df_us.groupby(['grouped_industry','lead_source_updated']).IsConverted.value_counts()"
   ]
  },
  {
   "cell_type": "code",
   "execution_count": 49,
   "metadata": {
    "collapsed": false,
    "deletable": true,
    "editable": true
   },
   "outputs": [
    {
     "data": {
      "text/plain": [
       "grouped_industry  lead_source_updated          IsConverted\n",
       "Federal           Marketing                    true           429\n",
       "                                               false          329\n",
       "                  Sales                        true            50\n",
       "                                               false           15\n",
       "                  missing_lead_source_updated  true             3\n",
       "Name: IsConverted, dtype: int64"
      ]
     },
     "execution_count": 49,
     "metadata": {},
     "output_type": "execute_result"
    }
   ],
   "source": [
    "ind_lead.head()"
   ]
  },
  {
   "cell_type": "code",
   "execution_count": 50,
   "metadata": {
    "collapsed": false,
    "deletable": true,
    "editable": true
   },
   "outputs": [],
   "source": [
    "ind_lead = ind_lead.reset_index(level=0)\n",
    "ind_lead.columns = ['grouped_industry','num_converted']\n",
    "ind_lead = ind_lead.reset_index()"
   ]
  },
  {
   "cell_type": "code",
   "execution_count": 51,
   "metadata": {
    "collapsed": false,
    "deletable": true,
    "editable": true
   },
   "outputs": [
    {
     "data": {
      "text/html": [
       "<div>\n",
       "<style>\n",
       "    .dataframe thead tr:only-child th {\n",
       "        text-align: right;\n",
       "    }\n",
       "\n",
       "    .dataframe thead th {\n",
       "        text-align: left;\n",
       "    }\n",
       "\n",
       "    .dataframe tbody tr th {\n",
       "        vertical-align: top;\n",
       "    }\n",
       "</style>\n",
       "<table border=\"1\" class=\"dataframe\">\n",
       "  <thead>\n",
       "    <tr style=\"text-align: right;\">\n",
       "      <th></th>\n",
       "      <th>lead_source_updated</th>\n",
       "      <th>IsConverted</th>\n",
       "      <th>grouped_industry</th>\n",
       "      <th>num_converted</th>\n",
       "    </tr>\n",
       "  </thead>\n",
       "  <tbody>\n",
       "    <tr>\n",
       "      <th>0</th>\n",
       "      <td>Marketing</td>\n",
       "      <td>true</td>\n",
       "      <td>Federal</td>\n",
       "      <td>429</td>\n",
       "    </tr>\n",
       "    <tr>\n",
       "      <th>1</th>\n",
       "      <td>Marketing</td>\n",
       "      <td>false</td>\n",
       "      <td>Federal</td>\n",
       "      <td>329</td>\n",
       "    </tr>\n",
       "    <tr>\n",
       "      <th>2</th>\n",
       "      <td>Sales</td>\n",
       "      <td>true</td>\n",
       "      <td>Federal</td>\n",
       "      <td>50</td>\n",
       "    </tr>\n",
       "    <tr>\n",
       "      <th>3</th>\n",
       "      <td>Sales</td>\n",
       "      <td>false</td>\n",
       "      <td>Federal</td>\n",
       "      <td>15</td>\n",
       "    </tr>\n",
       "    <tr>\n",
       "      <th>4</th>\n",
       "      <td>missing_lead_source_updated</td>\n",
       "      <td>true</td>\n",
       "      <td>Federal</td>\n",
       "      <td>3</td>\n",
       "    </tr>\n",
       "  </tbody>\n",
       "</table>\n",
       "</div>"
      ],
      "text/plain": [
       "           lead_source_updated IsConverted grouped_industry  num_converted\n",
       "0                    Marketing        true          Federal            429\n",
       "1                    Marketing       false          Federal            329\n",
       "2                        Sales        true          Federal             50\n",
       "3                        Sales       false          Federal             15\n",
       "4  missing_lead_source_updated        true          Federal              3"
      ]
     },
     "execution_count": 51,
     "metadata": {},
     "output_type": "execute_result"
    }
   ],
   "source": [
    "ind_lead.head()"
   ]
  },
  {
   "cell_type": "code",
   "execution_count": 52,
   "metadata": {
    "collapsed": false,
    "deletable": true,
    "editable": true
   },
   "outputs": [
    {
     "data": {
      "image/png": "[encoded data removed]",
      "text/plain": [
       "<matplotlib.figure.Figure at 0x10edeaed0>"
      ]
     },
     "metadata": {},
     "output_type": "display_data"
    }
   ],
   "source": [
    "#fig, ax = plt.subplots(ncols=1, nrows=1, figsize = (10,6))\n",
    "ax = sns.factorplot(x='grouped_industry',y='num_converted',hue = 'IsConverted', row = 'lead_source_updated', \n",
    "                    data = ind_lead,  size=5, aspect=2)"
   ]
  },
  {
   "cell_type": "code",
   "execution_count": 53,
   "metadata": {
    "collapsed": false,
    "deletable": true,
    "editable": true
   },
   "outputs": [
    {
     "data": {
      "text/html": [
       "<div>\n",
       "<style>\n",
       "    .dataframe thead tr:only-child th {\n",
       "        text-align: right;\n",
       "    }\n",
       "\n",
       "    .dataframe thead th {\n",
       "        text-align: left;\n",
       "    }\n",
       "\n",
       "    .dataframe tbody tr th {\n",
       "        vertical-align: top;\n",
       "    }\n",
       "</style>\n",
       "<table border=\"1\" class=\"dataframe\">\n",
       "  <thead>\n",
       "    <tr style=\"text-align: right;\">\n",
       "      <th></th>\n",
       "      <th>IsConverted</th>\n",
       "      <th>lead_source_updated</th>\n",
       "      <th>grouped_industry</th>\n",
       "      <th>Title_Score__c</th>\n",
       "    </tr>\n",
       "  </thead>\n",
       "  <tbody>\n",
       "    <tr>\n",
       "      <th>0</th>\n",
       "      <td>false</td>\n",
       "      <td>Marketing</td>\n",
       "      <td>Federal</td>\n",
       "      <td>58</td>\n",
       "    </tr>\n",
       "    <tr>\n",
       "      <th>1</th>\n",
       "      <td>false</td>\n",
       "      <td>Marketing</td>\n",
       "      <td>Financial Services</td>\n",
       "      <td>60</td>\n",
       "    </tr>\n",
       "    <tr>\n",
       "      <th>2</th>\n",
       "      <td>false</td>\n",
       "      <td>Marketing</td>\n",
       "      <td>Healthcare</td>\n",
       "      <td>60</td>\n",
       "    </tr>\n",
       "    <tr>\n",
       "      <th>3</th>\n",
       "      <td>false</td>\n",
       "      <td>Marketing</td>\n",
       "      <td>Life Sciences</td>\n",
       "      <td>58</td>\n",
       "    </tr>\n",
       "    <tr>\n",
       "      <th>4</th>\n",
       "      <td>false</td>\n",
       "      <td>Marketing</td>\n",
       "      <td>Other</td>\n",
       "      <td>60</td>\n",
       "    </tr>\n",
       "  </tbody>\n",
       "</table>\n",
       "</div>"
      ],
      "text/plain": [
       "  IsConverted lead_source_updated    grouped_industry  Title_Score__c\n",
       "0       false           Marketing             Federal              58\n",
       "1       false           Marketing  Financial Services              60\n",
       "2       false           Marketing          Healthcare              60\n",
       "3       false           Marketing       Life Sciences              58\n",
       "4       false           Marketing               Other              60"
      ]
     },
     "execution_count": 53,
     "metadata": {},
     "output_type": "execute_result"
    }
   ],
   "source": [
    "'''\n",
    "    4) Title score median\n",
    "'''\n",
    "title_lead = df_us.groupby(['IsConverted','lead_source_updated','grouped_industry']).Title_Score__c.median().reset_index()\n",
    "title_lead.head()"
   ]
  },
  {
   "cell_type": "code",
   "execution_count": 54,
   "metadata": {
    "collapsed": false,
    "deletable": true,
    "editable": true
   },
   "outputs": [
    {
     "data": {
      "text/plain": [
       "<matplotlib.axes._subplots.AxesSubplot at 0x1155333d0>"
      ]
     },
     "execution_count": 54,
     "metadata": {},
     "output_type": "execute_result"
    },
    {
     "data": {
      "image/png": "[encoded data removed]",
      "text/plain": [
       "<matplotlib.figure.Figure at 0x114338d50>"
      ]
     },
     "metadata": {},
     "output_type": "display_data"
    }
   ],
   "source": [
    "'''\n",
    "    5) Average title score by lead source:\n",
    "        * Lead source doesnt seem to affect the title score if dont make missing/null titlescore NEGATIVE (-500)\n",
    "'''\n",
    "fig, ax = plt.subplots(ncols=1, nrows=1, figsize = (10,6))\n",
    "sns.barplot(x = 'lead_source_updated',y = 'Title_Score__c' ,hue = 'IsConverted',\n",
    "            data = title_lead, ax = ax, palette='Set1')"
   ]
  },
  {
   "cell_type": "code",
   "execution_count": 55,
   "metadata": {
    "collapsed": false,
    "deletable": true,
    "editable": true
   },
   "outputs": [
    {
     "data": {
      "text/plain": [
       "<matplotlib.axes._subplots.AxesSubplot at 0x114a8d910>"
      ]
     },
     "execution_count": 55,
     "metadata": {},
     "output_type": "execute_result"
    },
    {
     "data": {
      "image/png": "[encoded data removed]",
      "text/plain": [
       "<matplotlib.figure.Figure at 0x1162aa7d0>"
      ]
     },
     "metadata": {},
     "output_type": "display_data"
    }
   ],
   "source": [
    "'''\n",
    "    6) Converted leads by quarter for all data & for after Q1-2016\n",
    "'''\n",
    "fig, axes = plt.subplots(ncols=1, nrows=2, figsize = (10,6))\n",
    "df_us.groupby(['quarterCreated']).IsConverted.value_counts().unstack().plot(ax = axes[0], cmap='RdBu')\n",
    "df_us[(df_us.quarterCreated >= pd.Period('2016Q1', freq = 'Q-SEP'))].groupby(['quarterCreated']).IsConverted.value_counts().unstack().plot(ax = axes[1], cmap='RdBu')"
   ]
  },
  {
   "cell_type": "code",
   "execution_count": 60,
   "metadata": {
    "collapsed": false,
    "deletable": true,
    "editable": true
   },
   "outputs": [
    {
     "data": {
      "text/plain": [
       "<seaborn.axisgrid.FacetGrid at 0x119e47990>"
      ]
     },
     "execution_count": 60,
     "metadata": {},
     "output_type": "execute_result"
    },
    {
     "data": {
      "image/png": "[encoded data removed]",
      "text/plain": [
       "<matplotlib.figure.Figure at 0x119e47a10>"
      ]
     },
     "metadata": {},
     "output_type": "display_data"
    }
   ],
   "source": [
    "#active_over_2wks_ago\n",
    "'''\n",
    "    7) Number of leads converted by company size (employee #)\n",
    "        Company size seems to matter when the lead source is Sales \n",
    "'''\n",
    "num_emp = df_us.groupby(['lead_source_updated','num_emp']).IsConverted.value_counts()\n",
    "num_emp = num_emp.reset_index(level=0)\n",
    "num_emp.columns = ['lead_source_updated','num_converted']\n",
    "\n",
    "num_emp = num_emp.reset_index()\n",
    "num_emp.head()\n",
    "\n",
    "# fig, ax = plt.subplots(ncols=1, nrows=1, figsize = (10,6))\n",
    "sns.factorplot(x = 'num_emp',y = 'num_converted' ,hue = 'IsConverted', col ='lead_source_updated',\n",
    "            data = num_emp, palette='Set1', size=10, aspect=1)"
   ]
  },
  {
   "cell_type": "code",
   "execution_count": 61,
   "metadata": {
    "collapsed": false,
    "deletable": true,
    "editable": true
   },
   "outputs": [
    {
     "data": {
      "text/plain": [
       "<matplotlib.axes._subplots.AxesSubplot at 0x11e0d9290>"
      ]
     },
     "execution_count": 61,
     "metadata": {},
     "output_type": "execute_result"
    },
    {
     "data": {
      "image/png": "[encoded data removed]",
      "text/plain": [
       "<matplotlib.figure.Figure at 0x119e7d4d0>"
      ]
     },
     "metadata": {},
     "output_type": "display_data"
    }
   ],
   "source": [
    "'''\n",
    "    8) Communication status vs Converted\n",
    "'''\n",
    "comm = df_us.groupby(['Communication_Status__c']).IsConverted.value_counts()\n",
    "comm.index.names = ['Communication_Status__c','num_converted']\n",
    "comm = comm.unstack()\n",
    "comm.plot(kind = 'barh',  stacked = True) "
   ]
  },
  {
   "cell_type": "markdown",
   "metadata": {
    "deletable": true,
    "editable": true
   },
   "source": [
    "### Feature encoding  - 1st pass\n",
    "\n",
    " ** Remove title score and just use title score bins created since there are many title scores missing**\n",
    " ** Scaled 'Title','Company','email_sig','LeanData__Reporting_Matched_Account__c' by dividing by 1000**\n",
    " ** Used LabelEncoder to encode* TODO: better feature encoding:\n",
    "    \n",
    "    **get title levels & scale title**\n",
    "    \n",
    "    **do something about email_sig encoding**\n",
    "\n",
    "    **industry vs industry_wave - keep one**\n",
    "    \n",
    "    **company - scale or remove feature**\n",
    "    "
   ]
  },
  {
   "cell_type": "code",
   "execution_count": 243,
   "metadata": {
    "collapsed": true,
    "deletable": true,
    "editable": true
   },
   "outputs": [],
   "source": [
    "df_transformed = df_us.copy()"
   ]
  },
  {
   "cell_type": "code",
   "execution_count": 221,
   "metadata": {
    "collapsed": false,
    "deletable": true,
    "editable": true
   },
   "outputs": [
    {
     "data": {
      "text/plain": [
       "false    22581\n",
       "true     10475\n",
       "Name: IsConverted, dtype: int64"
      ]
     },
     "execution_count": 221,
     "metadata": {},
     "output_type": "execute_result"
    }
   ],
   "source": [
    "df_transformed.IsConverted.value_counts()"
   ]
  },
  {
   "cell_type": "code",
   "execution_count": 222,
   "metadata": {
    "collapsed": false,
    "deletable": true,
    "editable": true
   },
   "outputs": [
    {
     "data": {
      "text/plain": [
       "Index([                              u'LastName',\n",
       "                                        u'Title',\n",
       "                               u'Title_Score__c',\n",
       "                                  u'CreatedDate',\n",
       "                                  u'IsConverted',\n",
       "                              u'CurrencyIsoCode',\n",
       "                         u'Eloqua_Score_Card__c',\n",
       "                      u'Communication_Status__c',\n",
       "                 u'Community_Registered_User__c',\n",
       "                u'University_Registered_User__c',\n",
       "                        u'University_Steward__c',\n",
       "                           u'HasOptedOutofEmail',\n",
       "                                     u'Industry',\n",
       "                             u'Industry_Wave__c',\n",
       "                                      u'Company',\n",
       "                             u'LastActivityDate',\n",
       "                             u'LastModifiedDate',\n",
       "                           u'Latest_Campaign__c',\n",
       "                                 u'Lead_Type__c',\n",
       "                                   u'LeadSource',\n",
       "       u'LeanData__Reporting_Matched_Account__c',\n",
       "            u'LeanData_Matched_Account_Owner__c',\n",
       "                u'LeanData_Matched_US_Region__c',\n",
       "                                u'Managed_By__c',\n",
       "                                      u'OwnerId',\n",
       "                                   u'lead_owner',\n",
       "                          u'lead_owner_division',\n",
       "                              u'lead_owner_dept',\n",
       "                             u'grouped_industry',\n",
       "                          u'lead_source_updated',\n",
       "                            u'has_leanData_acct',\n",
       "                                    u'has_phone',\n",
       "                                    u'email_sig',\n",
       "                            u'email_blacklisted',\n",
       "                               u'quarterCreated',\n",
       "                            u'missing_firstname',\n",
       "                              u'title_score_bin',\n",
       "                                u'missing_title',\n",
       "                                u'IsConverted_2',\n",
       "                                      u'num_emp',\n",
       "                                    u'job_level'],\n",
       "      dtype='object')"
      ]
     },
     "execution_count": 222,
     "metadata": {},
     "output_type": "execute_result"
    }
   ],
   "source": [
    "df_transformed.columns"
   ]
  },
  {
   "cell_type": "code",
   "execution_count": 244,
   "metadata": {
    "collapsed": false,
    "deletable": true,
    "editable": true
   },
   "outputs": [],
   "source": [
    "df_transformed = df_transformed.drop(['IsConverted','IsConverted_2',\n",
    "                                      'CreatedDate','LastActivityDate', 'LastModifiedDate','LastName','Industry',\n",
    "                                      'grouped_industry','Title_Score__c'], axis =1)"
   ]
  },
  {
   "cell_type": "code",
   "execution_count": 225,
   "metadata": {
    "collapsed": false,
    "deletable": true,
    "editable": true
   },
   "outputs": [
    {
     "data": {
      "text/plain": [
       "Index([                                 u'Title',\n",
       "                              u'CurrencyIsoCode',\n",
       "                         u'Eloqua_Score_Card__c',\n",
       "                      u'Communication_Status__c',\n",
       "                 u'Community_Registered_User__c',\n",
       "                u'University_Registered_User__c',\n",
       "                        u'University_Steward__c',\n",
       "                           u'HasOptedOutofEmail',\n",
       "                             u'Industry_Wave__c',\n",
       "                                      u'Company',\n",
       "                           u'Latest_Campaign__c',\n",
       "                                 u'Lead_Type__c',\n",
       "                                   u'LeadSource',\n",
       "       u'LeanData__Reporting_Matched_Account__c',\n",
       "            u'LeanData_Matched_Account_Owner__c',\n",
       "                u'LeanData_Matched_US_Region__c',\n",
       "                                u'Managed_By__c',\n",
       "                                      u'OwnerId',\n",
       "                                   u'lead_owner',\n",
       "                          u'lead_owner_division',\n",
       "                              u'lead_owner_dept',\n",
       "                          u'lead_source_updated',\n",
       "                            u'has_leanData_acct',\n",
       "                                    u'has_phone',\n",
       "                                    u'email_sig',\n",
       "                            u'email_blacklisted',\n",
       "                               u'quarterCreated',\n",
       "                            u'missing_firstname',\n",
       "                              u'title_score_bin',\n",
       "                                u'missing_title',\n",
       "                                      u'num_emp',\n",
       "                                    u'job_level'],\n",
       "      dtype='object')"
      ]
     },
     "execution_count": 225,
     "metadata": {},
     "output_type": "execute_result"
    }
   ],
   "source": [
    "df_transformed.columns"
   ]
  },
  {
   "cell_type": "code",
   "execution_count": 227,
   "metadata": {
    "collapsed": false,
    "deletable": true,
    "editable": true
   },
   "outputs": [
    {
     "data": {
      "text/html": [
       "<div>\n",
       "<style>\n",
       "    .dataframe thead tr:only-child th {\n",
       "        text-align: right;\n",
       "    }\n",
       "\n",
       "    .dataframe thead th {\n",
       "        text-align: left;\n",
       "    }\n",
       "\n",
       "    .dataframe tbody tr th {\n",
       "        vertical-align: top;\n",
       "    }\n",
       "</style>\n",
       "<table border=\"1\" class=\"dataframe\">\n",
       "  <thead>\n",
       "    <tr style=\"text-align: right;\">\n",
       "      <th></th>\n",
       "      <th>Title</th>\n",
       "      <th>CurrencyIsoCode</th>\n",
       "      <th>Eloqua_Score_Card__c</th>\n",
       "      <th>Communication_Status__c</th>\n",
       "      <th>Community_Registered_User__c</th>\n",
       "      <th>University_Registered_User__c</th>\n",
       "      <th>University_Steward__c</th>\n",
       "      <th>HasOptedOutofEmail</th>\n",
       "      <th>Industry_Wave__c</th>\n",
       "      <th>Company</th>\n",
       "      <th>...</th>\n",
       "      <th>has_leanData_acct</th>\n",
       "      <th>has_phone</th>\n",
       "      <th>email_sig</th>\n",
       "      <th>email_blacklisted</th>\n",
       "      <th>quarterCreated</th>\n",
       "      <th>missing_firstname</th>\n",
       "      <th>title_score_bin</th>\n",
       "      <th>missing_title</th>\n",
       "      <th>num_emp</th>\n",
       "      <th>job_level</th>\n",
       "    </tr>\n",
       "  </thead>\n",
       "  <tbody>\n",
       "    <tr>\n",
       "      <th>0</th>\n",
       "      <td>Assistant Vice President Information Technolog...</td>\n",
       "      <td>USD</td>\n",
       "      <td>C4</td>\n",
       "      <td>New</td>\n",
       "      <td>false</td>\n",
       "      <td>false</td>\n",
       "      <td>false</td>\n",
       "      <td>false</td>\n",
       "      <td>Other</td>\n",
       "      <td>General Motors Financial Company, Inc.</td>\n",
       "      <td>...</td>\n",
       "      <td>1</td>\n",
       "      <td>1</td>\n",
       "      <td>americredit.com</td>\n",
       "      <td>0</td>\n",
       "      <td>2015Q4</td>\n",
       "      <td>0</td>\n",
       "      <td>[40.0, 100.6)</td>\n",
       "      <td>0</td>\n",
       "      <td>less_than_50k</td>\n",
       "      <td>missing_job_level</td>\n",
       "    </tr>\n",
       "    <tr>\n",
       "      <th>2</th>\n",
       "      <td>Director, Data Services</td>\n",
       "      <td>USD</td>\n",
       "      <td>B3</td>\n",
       "      <td>No Interest</td>\n",
       "      <td>false</td>\n",
       "      <td>false</td>\n",
       "      <td>false</td>\n",
       "      <td>false</td>\n",
       "      <td>Insurance</td>\n",
       "      <td>Builders Mutual Ins</td>\n",
       "      <td>...</td>\n",
       "      <td>0</td>\n",
       "      <td>1</td>\n",
       "      <td>bmico.com</td>\n",
       "      <td>0</td>\n",
       "      <td>2012Q2</td>\n",
       "      <td>0</td>\n",
       "      <td>[40.0, 100.6)</td>\n",
       "      <td>0</td>\n",
       "      <td>missing_emp</td>\n",
       "      <td>missing_job_level</td>\n",
       "    </tr>\n",
       "    <tr>\n",
       "      <th>3</th>\n",
       "      <td>Head, Service and Performance Management</td>\n",
       "      <td>USD</td>\n",
       "      <td>C4</td>\n",
       "      <td>Working - No Contact</td>\n",
       "      <td>false</td>\n",
       "      <td>false</td>\n",
       "      <td>false</td>\n",
       "      <td>false</td>\n",
       "      <td>Life Sciences</td>\n",
       "      <td>Boehringer Ingelheim</td>\n",
       "      <td>...</td>\n",
       "      <td>1</td>\n",
       "      <td>1</td>\n",
       "      <td>boehringer-ingelheim.com</td>\n",
       "      <td>0</td>\n",
       "      <td>2016Q3</td>\n",
       "      <td>0</td>\n",
       "      <td>[40.0, 100.6)</td>\n",
       "      <td>0</td>\n",
       "      <td>less_than_10k</td>\n",
       "      <td>missing_job_level</td>\n",
       "    </tr>\n",
       "    <tr>\n",
       "      <th>4</th>\n",
       "      <td>global risk governance manager</td>\n",
       "      <td>USD</td>\n",
       "      <td>B4</td>\n",
       "      <td>Working - No Contact</td>\n",
       "      <td>false</td>\n",
       "      <td>false</td>\n",
       "      <td>false</td>\n",
       "      <td>false</td>\n",
       "      <td>Insurance</td>\n",
       "      <td>AFLAC Incorporated</td>\n",
       "      <td>...</td>\n",
       "      <td>1</td>\n",
       "      <td>1</td>\n",
       "      <td>aflac.com</td>\n",
       "      <td>0</td>\n",
       "      <td>2015Q3</td>\n",
       "      <td>0</td>\n",
       "      <td>[40.0, 100.6)</td>\n",
       "      <td>0</td>\n",
       "      <td>less_than_10k</td>\n",
       "      <td>manager</td>\n",
       "    </tr>\n",
       "    <tr>\n",
       "      <th>5</th>\n",
       "      <td>Director</td>\n",
       "      <td>USD</td>\n",
       "      <td>B4</td>\n",
       "      <td>New</td>\n",
       "      <td>false</td>\n",
       "      <td>false</td>\n",
       "      <td>false</td>\n",
       "      <td>false</td>\n",
       "      <td>Education</td>\n",
       "      <td>MIT CDOIQ Program</td>\n",
       "      <td>...</td>\n",
       "      <td>1</td>\n",
       "      <td>1</td>\n",
       "      <td>mit.edu</td>\n",
       "      <td>0</td>\n",
       "      <td>2015Q4</td>\n",
       "      <td>0</td>\n",
       "      <td>[40.0, 100.6)</td>\n",
       "      <td>0</td>\n",
       "      <td>more_than_10k</td>\n",
       "      <td>missing_job_level</td>\n",
       "    </tr>\n",
       "  </tbody>\n",
       "</table>\n",
       "<p>5 rows × 32 columns</p>\n",
       "</div>"
      ],
      "text/plain": [
       "                                               Title CurrencyIsoCode  \\\n",
       "0  Assistant Vice President Information Technolog...             USD   \n",
       "2                            Director, Data Services             USD   \n",
       "3           Head, Service and Performance Management             USD   \n",
       "4                     global risk governance manager             USD   \n",
       "5                                           Director             USD   \n",
       "\n",
       "  Eloqua_Score_Card__c Communication_Status__c Community_Registered_User__c  \\\n",
       "0                   C4                     New                        false   \n",
       "2                   B3             No Interest                        false   \n",
       "3                   C4    Working - No Contact                        false   \n",
       "4                   B4    Working - No Contact                        false   \n",
       "5                   B4                     New                        false   \n",
       "\n",
       "  University_Registered_User__c University_Steward__c HasOptedOutofEmail  \\\n",
       "0                         false                 false              false   \n",
       "2                         false                 false              false   \n",
       "3                         false                 false              false   \n",
       "4                         false                 false              false   \n",
       "5                         false                 false              false   \n",
       "\n",
       "  Industry_Wave__c                                 Company        ...          \\\n",
       "0            Other  General Motors Financial Company, Inc.        ...           \n",
       "2        Insurance                     Builders Mutual Ins        ...           \n",
       "3    Life Sciences                    Boehringer Ingelheim        ...           \n",
       "4        Insurance                      AFLAC Incorporated        ...           \n",
       "5        Education                       MIT CDOIQ Program        ...           \n",
       "\n",
       "  has_leanData_acct has_phone                 email_sig email_blacklisted  \\\n",
       "0                 1         1           americredit.com                 0   \n",
       "2                 0         1                 bmico.com                 0   \n",
       "3                 1         1  boehringer-ingelheim.com                 0   \n",
       "4                 1         1                 aflac.com                 0   \n",
       "5                 1         1                   mit.edu                 0   \n",
       "\n",
       "  quarterCreated missing_firstname title_score_bin missing_title  \\\n",
       "0         2015Q4                 0   [40.0, 100.6)             0   \n",
       "2         2012Q2                 0   [40.0, 100.6)             0   \n",
       "3         2016Q3                 0   [40.0, 100.6)             0   \n",
       "4         2015Q3                 0   [40.0, 100.6)             0   \n",
       "5         2015Q4                 0   [40.0, 100.6)             0   \n",
       "\n",
       "         num_emp          job_level  \n",
       "0  less_than_50k  missing_job_level  \n",
       "2    missing_emp  missing_job_level  \n",
       "3  less_than_10k  missing_job_level  \n",
       "4  less_than_10k            manager  \n",
       "5  more_than_10k  missing_job_level  \n",
       "\n",
       "[5 rows x 32 columns]"
      ]
     },
     "execution_count": 227,
     "metadata": {},
     "output_type": "execute_result"
    }
   ],
   "source": [
    "df_transformed.head()"
   ]
  },
  {
   "cell_type": "code",
   "execution_count": 245,
   "metadata": {
    "collapsed": true,
    "deletable": true,
    "editable": true
   },
   "outputs": [],
   "source": [
    "# find categorical columns to encode\n",
    "cat_columns = df_transformed.select_dtypes(include = ['object','category']).columns"
   ]
  },
  {
   "cell_type": "code",
   "execution_count": 230,
   "metadata": {
    "collapsed": false,
    "deletable": true,
    "editable": true
   },
   "outputs": [
    {
     "data": {
      "text/plain": [
       "Index([                                 u'Title',\n",
       "                              u'CurrencyIsoCode',\n",
       "                         u'Eloqua_Score_Card__c',\n",
       "                      u'Communication_Status__c',\n",
       "                 u'Community_Registered_User__c',\n",
       "                u'University_Registered_User__c',\n",
       "                        u'University_Steward__c',\n",
       "                           u'HasOptedOutofEmail',\n",
       "                             u'Industry_Wave__c',\n",
       "                                      u'Company',\n",
       "                           u'Latest_Campaign__c',\n",
       "                                 u'Lead_Type__c',\n",
       "                                   u'LeadSource',\n",
       "       u'LeanData__Reporting_Matched_Account__c',\n",
       "            u'LeanData_Matched_Account_Owner__c',\n",
       "                u'LeanData_Matched_US_Region__c',\n",
       "                                u'Managed_By__c',\n",
       "                                      u'OwnerId',\n",
       "                                   u'lead_owner',\n",
       "                          u'lead_owner_division',\n",
       "                              u'lead_owner_dept',\n",
       "                          u'lead_source_updated',\n",
       "                                    u'email_sig',\n",
       "                               u'quarterCreated',\n",
       "                              u'title_score_bin',\n",
       "                                      u'num_emp',\n",
       "                                    u'job_level'],\n",
       "      dtype='object')"
      ]
     },
     "execution_count": 230,
     "metadata": {},
     "output_type": "execute_result"
    }
   ],
   "source": [
    "cat_columns"
   ]
  },
  {
   "cell_type": "code",
   "execution_count": 246,
   "metadata": {
    "collapsed": true,
    "deletable": true,
    "editable": true
   },
   "outputs": [],
   "source": [
    "le = LabelEncoder()\n",
    "# encode labels using label encoder\n",
    "for col in cat_columns:\n",
    "    df_transformed[col] = le.fit_transform(df_transformed[col])\n"
   ]
  },
  {
   "cell_type": "code",
   "execution_count": 247,
   "metadata": {
    "collapsed": false,
    "deletable": true,
    "editable": true
   },
   "outputs": [
    {
     "data": {
      "text/html": [
       "<div>\n",
       "<style>\n",
       "    .dataframe thead tr:only-child th {\n",
       "        text-align: right;\n",
       "    }\n",
       "\n",
       "    .dataframe thead th {\n",
       "        text-align: left;\n",
       "    }\n",
       "\n",
       "    .dataframe tbody tr th {\n",
       "        vertical-align: top;\n",
       "    }\n",
       "</style>\n",
       "<table border=\"1\" class=\"dataframe\">\n",
       "  <thead>\n",
       "    <tr style=\"text-align: right;\">\n",
       "      <th></th>\n",
       "      <th>Title</th>\n",
       "      <th>CurrencyIsoCode</th>\n",
       "      <th>Eloqua_Score_Card__c</th>\n",
       "      <th>Communication_Status__c</th>\n",
       "      <th>Community_Registered_User__c</th>\n",
       "      <th>University_Registered_User__c</th>\n",
       "      <th>University_Steward__c</th>\n",
       "      <th>HasOptedOutofEmail</th>\n",
       "      <th>Industry_Wave__c</th>\n",
       "      <th>Company</th>\n",
       "      <th>...</th>\n",
       "      <th>has_leanData_acct</th>\n",
       "      <th>has_phone</th>\n",
       "      <th>email_sig</th>\n",
       "      <th>email_blacklisted</th>\n",
       "      <th>quarterCreated</th>\n",
       "      <th>missing_firstname</th>\n",
       "      <th>title_score_bin</th>\n",
       "      <th>missing_title</th>\n",
       "      <th>num_emp</th>\n",
       "      <th>job_level</th>\n",
       "    </tr>\n",
       "  </thead>\n",
       "  <tbody>\n",
       "    <tr>\n",
       "      <th>count</th>\n",
       "      <td>33056.000000</td>\n",
       "      <td>33056.000000</td>\n",
       "      <td>33056.000000</td>\n",
       "      <td>33056.000000</td>\n",
       "      <td>33056.000000</td>\n",
       "      <td>33056.000000</td>\n",
       "      <td>33056.000000</td>\n",
       "      <td>33056.000000</td>\n",
       "      <td>33056.000000</td>\n",
       "      <td>33056.000000</td>\n",
       "      <td>...</td>\n",
       "      <td>33056.000000</td>\n",
       "      <td>33056.000000</td>\n",
       "      <td>33056.000000</td>\n",
       "      <td>33056.000000</td>\n",
       "      <td>33056.000000</td>\n",
       "      <td>33056.0</td>\n",
       "      <td>33056.000000</td>\n",
       "      <td>33056.0</td>\n",
       "      <td>33056.000000</td>\n",
       "      <td>33056.000000</td>\n",
       "    </tr>\n",
       "    <tr>\n",
       "      <th>mean</th>\n",
       "      <td>8617.534124</td>\n",
       "      <td>4.627571</td>\n",
       "      <td>11.125605</td>\n",
       "      <td>8.339727</td>\n",
       "      <td>0.003207</td>\n",
       "      <td>0.004659</td>\n",
       "      <td>0.000242</td>\n",
       "      <td>0.026652</td>\n",
       "      <td>15.952717</td>\n",
       "      <td>5502.805845</td>\n",
       "      <td>...</td>\n",
       "      <td>0.592570</td>\n",
       "      <td>0.965332</td>\n",
       "      <td>3240.036937</td>\n",
       "      <td>0.079229</td>\n",
       "      <td>24.092963</td>\n",
       "      <td>0.0</td>\n",
       "      <td>1.493314</td>\n",
       "      <td>0.0</td>\n",
       "      <td>5.560806</td>\n",
       "      <td>5.816372</td>\n",
       "    </tr>\n",
       "    <tr>\n",
       "      <th>std</th>\n",
       "      <td>5380.178746</td>\n",
       "      <td>0.988116</td>\n",
       "      <td>4.057857</td>\n",
       "      <td>4.788306</td>\n",
       "      <td>0.056538</td>\n",
       "      <td>0.068097</td>\n",
       "      <td>0.015555</td>\n",
       "      <td>0.161066</td>\n",
       "      <td>6.362534</td>\n",
       "      <td>3351.924374</td>\n",
       "      <td>...</td>\n",
       "      <td>0.491363</td>\n",
       "      <td>0.182941</td>\n",
       "      <td>2009.879953</td>\n",
       "      <td>0.270100</td>\n",
       "      <td>4.822818</td>\n",
       "      <td>0.0</td>\n",
       "      <td>0.861424</td>\n",
       "      <td>0.0</td>\n",
       "      <td>1.614653</td>\n",
       "      <td>0.841543</td>\n",
       "    </tr>\n",
       "    <tr>\n",
       "      <th>min</th>\n",
       "      <td>0.000000</td>\n",
       "      <td>0.000000</td>\n",
       "      <td>0.000000</td>\n",
       "      <td>0.000000</td>\n",
       "      <td>0.000000</td>\n",
       "      <td>0.000000</td>\n",
       "      <td>0.000000</td>\n",
       "      <td>0.000000</td>\n",
       "      <td>0.000000</td>\n",
       "      <td>0.000000</td>\n",
       "      <td>...</td>\n",
       "      <td>0.000000</td>\n",
       "      <td>0.000000</td>\n",
       "      <td>0.000000</td>\n",
       "      <td>0.000000</td>\n",
       "      <td>0.000000</td>\n",
       "      <td>0.0</td>\n",
       "      <td>0.000000</td>\n",
       "      <td>0.0</td>\n",
       "      <td>0.000000</td>\n",
       "      <td>0.000000</td>\n",
       "    </tr>\n",
       "    <tr>\n",
       "      <th>25%</th>\n",
       "      <td>3364.000000</td>\n",
       "      <td>5.000000</td>\n",
       "      <td>7.000000</td>\n",
       "      <td>6.000000</td>\n",
       "      <td>0.000000</td>\n",
       "      <td>0.000000</td>\n",
       "      <td>0.000000</td>\n",
       "      <td>0.000000</td>\n",
       "      <td>13.000000</td>\n",
       "      <td>2495.000000</td>\n",
       "      <td>...</td>\n",
       "      <td>0.000000</td>\n",
       "      <td>1.000000</td>\n",
       "      <td>1497.000000</td>\n",
       "      <td>0.000000</td>\n",
       "      <td>22.000000</td>\n",
       "      <td>0.0</td>\n",
       "      <td>1.000000</td>\n",
       "      <td>0.0</td>\n",
       "      <td>5.000000</td>\n",
       "      <td>6.000000</td>\n",
       "    </tr>\n",
       "    <tr>\n",
       "      <th>50%</th>\n",
       "      <td>8434.500000</td>\n",
       "      <td>5.000000</td>\n",
       "      <td>11.000000</td>\n",
       "      <td>7.000000</td>\n",
       "      <td>0.000000</td>\n",
       "      <td>0.000000</td>\n",
       "      <td>0.000000</td>\n",
       "      <td>0.000000</td>\n",
       "      <td>19.000000</td>\n",
       "      <td>5361.000000</td>\n",
       "      <td>...</td>\n",
       "      <td>1.000000</td>\n",
       "      <td>1.000000</td>\n",
       "      <td>2979.000000</td>\n",
       "      <td>0.000000</td>\n",
       "      <td>25.000000</td>\n",
       "      <td>0.0</td>\n",
       "      <td>2.000000</td>\n",
       "      <td>0.0</td>\n",
       "      <td>6.000000</td>\n",
       "      <td>6.000000</td>\n",
       "    </tr>\n",
       "    <tr>\n",
       "      <th>75%</th>\n",
       "      <td>13160.000000</td>\n",
       "      <td>5.000000</td>\n",
       "      <td>15.000000</td>\n",
       "      <td>13.000000</td>\n",
       "      <td>0.000000</td>\n",
       "      <td>0.000000</td>\n",
       "      <td>0.000000</td>\n",
       "      <td>0.000000</td>\n",
       "      <td>19.000000</td>\n",
       "      <td>8305.000000</td>\n",
       "      <td>...</td>\n",
       "      <td>1.000000</td>\n",
       "      <td>1.000000</td>\n",
       "      <td>4904.000000</td>\n",
       "      <td>0.000000</td>\n",
       "      <td>28.000000</td>\n",
       "      <td>0.0</td>\n",
       "      <td>2.000000</td>\n",
       "      <td>0.0</td>\n",
       "      <td>6.000000</td>\n",
       "      <td>6.000000</td>\n",
       "    </tr>\n",
       "    <tr>\n",
       "      <th>max</th>\n",
       "      <td>18548.000000</td>\n",
       "      <td>5.000000</td>\n",
       "      <td>16.000000</td>\n",
       "      <td>14.000000</td>\n",
       "      <td>1.000000</td>\n",
       "      <td>1.000000</td>\n",
       "      <td>1.000000</td>\n",
       "      <td>1.000000</td>\n",
       "      <td>25.000000</td>\n",
       "      <td>11719.000000</td>\n",
       "      <td>...</td>\n",
       "      <td>1.000000</td>\n",
       "      <td>1.000000</td>\n",
       "      <td>6813.000000</td>\n",
       "      <td>1.000000</td>\n",
       "      <td>29.000000</td>\n",
       "      <td>0.0</td>\n",
       "      <td>2.000000</td>\n",
       "      <td>0.0</td>\n",
       "      <td>7.000000</td>\n",
       "      <td>7.000000</td>\n",
       "    </tr>\n",
       "  </tbody>\n",
       "</table>\n",
       "<p>8 rows × 32 columns</p>\n",
       "</div>"
      ],
      "text/plain": [
       "              Title  CurrencyIsoCode  Eloqua_Score_Card__c  \\\n",
       "count  33056.000000     33056.000000          33056.000000   \n",
       "mean    8617.534124         4.627571             11.125605   \n",
       "std     5380.178746         0.988116              4.057857   \n",
       "min        0.000000         0.000000              0.000000   \n",
       "25%     3364.000000         5.000000              7.000000   \n",
       "50%     8434.500000         5.000000             11.000000   \n",
       "75%    13160.000000         5.000000             15.000000   \n",
       "max    18548.000000         5.000000             16.000000   \n",
       "\n",
       "       Communication_Status__c  Community_Registered_User__c  \\\n",
       "count             33056.000000                  33056.000000   \n",
       "mean                  8.339727                      0.003207   \n",
       "std                   4.788306                      0.056538   \n",
       "min                   0.000000                      0.000000   \n",
       "25%                   6.000000                      0.000000   \n",
       "50%                   7.000000                      0.000000   \n",
       "75%                  13.000000                      0.000000   \n",
       "max                  14.000000                      1.000000   \n",
       "\n",
       "       University_Registered_User__c  University_Steward__c  \\\n",
       "count                   33056.000000           33056.000000   \n",
       "mean                        0.004659               0.000242   \n",
       "std                         0.068097               0.015555   \n",
       "min                         0.000000               0.000000   \n",
       "25%                         0.000000               0.000000   \n",
       "50%                         0.000000               0.000000   \n",
       "75%                         0.000000               0.000000   \n",
       "max                         1.000000               1.000000   \n",
       "\n",
       "       HasOptedOutofEmail  Industry_Wave__c       Company      ...       \\\n",
       "count        33056.000000      33056.000000  33056.000000      ...        \n",
       "mean             0.026652         15.952717   5502.805845      ...        \n",
       "std              0.161066          6.362534   3351.924374      ...        \n",
       "min              0.000000          0.000000      0.000000      ...        \n",
       "25%              0.000000         13.000000   2495.000000      ...        \n",
       "50%              0.000000         19.000000   5361.000000      ...        \n",
       "75%              0.000000         19.000000   8305.000000      ...        \n",
       "max              1.000000         25.000000  11719.000000      ...        \n",
       "\n",
       "       has_leanData_acct     has_phone     email_sig  email_blacklisted  \\\n",
       "count       33056.000000  33056.000000  33056.000000       33056.000000   \n",
       "mean            0.592570      0.965332   3240.036937           0.079229   \n",
       "std             0.491363      0.182941   2009.879953           0.270100   \n",
       "min             0.000000      0.000000      0.000000           0.000000   \n",
       "25%             0.000000      1.000000   1497.000000           0.000000   \n",
       "50%             1.000000      1.000000   2979.000000           0.000000   \n",
       "75%             1.000000      1.000000   4904.000000           0.000000   \n",
       "max             1.000000      1.000000   6813.000000           1.000000   \n",
       "\n",
       "       quarterCreated  missing_firstname  title_score_bin  missing_title  \\\n",
       "count    33056.000000            33056.0     33056.000000        33056.0   \n",
       "mean        24.092963                0.0         1.493314            0.0   \n",
       "std          4.822818                0.0         0.861424            0.0   \n",
       "min          0.000000                0.0         0.000000            0.0   \n",
       "25%         22.000000                0.0         1.000000            0.0   \n",
       "50%         25.000000                0.0         2.000000            0.0   \n",
       "75%         28.000000                0.0         2.000000            0.0   \n",
       "max         29.000000                0.0         2.000000            0.0   \n",
       "\n",
       "            num_emp     job_level  \n",
       "count  33056.000000  33056.000000  \n",
       "mean       5.560806      5.816372  \n",
       "std        1.614653      0.841543  \n",
       "min        0.000000      0.000000  \n",
       "25%        5.000000      6.000000  \n",
       "50%        6.000000      6.000000  \n",
       "75%        6.000000      6.000000  \n",
       "max        7.000000      7.000000  \n",
       "\n",
       "[8 rows x 32 columns]"
      ]
     },
     "execution_count": 247,
     "metadata": {},
     "output_type": "execute_result"
    }
   ],
   "source": [
    "df_transformed.describe()"
   ]
  },
  {
   "cell_type": "code",
   "execution_count": 249,
   "metadata": {
    "collapsed": false,
    "deletable": true,
    "editable": true
   },
   "outputs": [],
   "source": [
    "# fix scaling - divide columns by 1000\n",
    "df_transformed[['Title','Company','email_sig','LeanData__Reporting_Matched_Account__c']] = df_transformed[['Title','Company','email_sig','LeanData__Reporting_Matched_Account__c']].apply(lambda x:x/1000)"
   ]
  },
  {
   "cell_type": "code",
   "execution_count": 275,
   "metadata": {
    "collapsed": false,
    "deletable": true,
    "editable": true
   },
   "outputs": [
    {
     "name": "stdout",
     "output_type": "stream",
     "text": [
      "Title max  18.548  min  0.0 avg 8.4345\n",
      "CurrencyIsoCode max  5  min  0 avg 5.0\n",
      "Eloqua_Score_Card__c max  16  min  0 avg 11.0\n",
      "Communication_Status__c max  14  min  0 avg 7.0\n",
      "Community_Registered_User__c max  1  min  0 avg 0.0\n",
      "University_Registered_User__c max  1  min  0 avg 0.0\n",
      "University_Steward__c max  1  min  0 avg 0.0\n",
      "HasOptedOutofEmail max  1  min  0 avg 0.0\n",
      "Industry_Wave__c max  25  min  0 avg 19.0\n",
      "Company max  11.719  min  0.0 avg 5.361\n",
      "Latest_Campaign__c max  419  min  0 avg 340.0\n",
      "Lead_Type__c max  7  min  0 avg 3.0\n",
      "LeadSource max  24  min  0 avg 18.0\n",
      "LeanData__Reporting_Matched_Account__c max  2.428  min  0.0 avg 1.777\n",
      "LeanData_Matched_Account_Owner__c max  49  min  0 avg 32.0\n",
      "LeanData_Matched_US_Region__c max  5  min  0 avg 4.0\n",
      "Managed_By__c max  2  min  0 avg 0.0\n",
      "OwnerId max  51  min  0 avg 16.0\n",
      "lead_owner max  51  min  0 avg 24.0\n",
      "lead_owner_division max  10  min  0 avg 7.0\n",
      "lead_owner_dept max  10  min  0 avg 6.0\n",
      "lead_source_updated max  2  min  0 avg 0.0\n",
      "has_leanData_acct max  1  min  0 avg 1.0\n",
      "has_phone max  1  min  0 avg 1.0\n",
      "email_sig max  6.813  min  0.0 avg 2.979\n",
      "email_blacklisted max  1  min  0 avg 0.0\n",
      "quarterCreated max  29  min  0 avg 25.0\n",
      "missing_firstname max  0  min  0 avg 0.0\n",
      "title_score_bin max  2  min  0 avg 2.0\n",
      "missing_title max  0  min  0 avg 0.0\n",
      "num_emp max  7  min  0 avg 6.0\n",
      "job_level max  7  min  0 avg 6.0\n"
     ]
    }
   ],
   "source": [
    "for c in df_transformed.columns:\n",
    "    print c, 'max ', df_transformed[c].max(), ' min ', df_transformed[c].min(), 'avg', df_transformed[c].median()"
   ]
  },
  {
   "cell_type": "code",
   "execution_count": 295,
   "metadata": {
    "collapsed": false,
    "deletable": true,
    "editable": true
   },
   "outputs": [],
   "source": [
    "#df_transformed = df_transformed.drop(cols_drop,axis=1)\n",
    "X, y = shuffle(df_transformed, df_us.IsConverted_2 , random_state=23)\n",
    "\n",
    "'''\n",
    "FEATURE IMPORTANCE USING DECISION TREE\n",
    "'''\n",
    "# split data into training and test sets\n",
    "X_train, X_test, y_train, y_test = cross_validation.train_test_split(X, y, test_size=0.15, random_state=1)\n",
    "\n",
    "\n",
    "# create decision tree model and fit to training data set to obtain feature importance\n",
    "tree_model = tree.DecisionTreeClassifier(criterion='gini', max_depth=5, min_samples_split=10,min_samples_leaf=5)\n",
    "#tree_model = tree.DecisionTreeClassifier()\n",
    "tree_model.fit(X_train, y_train)\n",
    "# predict test \n",
    "tree_predicted = tree_model.predict(X_test)"
   ]
  },
  {
   "cell_type": "code",
   "execution_count": 296,
   "metadata": {
    "collapsed": false,
    "deletable": true,
    "editable": true
   },
   "outputs": [
    {
     "name": "stdout",
     "output_type": "stream",
     "text": [
      "32. feature 28 (0.931174)  title_score_bin\n",
      "31. feature 12 (0.027602)  LeadSource\n",
      "30. feature 2 (0.013535)  Eloqua_Score_Card__c\n",
      "29. feature 21 (0.007659)  lead_source_updated\n",
      "28. feature 17 (0.007086)  OwnerId\n",
      "27. feature 11 (0.004813)  Lead_Type__c\n",
      "26. feature 18 (0.003364)  lead_owner\n",
      "25. feature 10 (0.003031)  Latest_Campaign__c\n",
      "24. feature 19 (0.001124)  lead_owner_division\n",
      "23. feature 24 (0.000613)  email_sig\n",
      "22. feature 9 (0.000000)  Company\n",
      "21. feature 8 (0.000000)  Industry_Wave__c\n",
      "20. feature 31 (0.000000)  job_level\n",
      "19. feature 7 (0.000000)  HasOptedOutofEmail\n",
      "18. feature 5 (0.000000)  University_Registered_User__c\n",
      "17. feature 4 (0.000000)  Community_Registered_User__c\n",
      "16. feature 3 (0.000000)  Communication_Status__c\n",
      "15. feature 1 (0.000000)  CurrencyIsoCode\n",
      "14. feature 6 (0.000000)  University_Steward__c\n",
      "13. feature 15 (0.000000)  LeanData_Matched_US_Region__c\n",
      "12. feature 13 (0.000000)  LeanData__Reporting_Matched_Account__c\n",
      "11. feature 14 (0.000000)  LeanData_Matched_Account_Owner__c\n",
      "10. feature 30 (0.000000)  num_emp\n",
      "9. feature 16 (0.000000)  Managed_By__c\n",
      "8. feature 20 (0.000000)  lead_owner_dept\n",
      "7. feature 22 (0.000000)  has_leanData_acct\n",
      "6. feature 23 (0.000000)  has_phone\n",
      "5. feature 25 (0.000000)  email_blacklisted\n",
      "4. feature 26 (0.000000)  quarterCreated\n",
      "3. feature 27 (0.000000)  missing_firstname\n",
      "2. feature 29 (0.000000)  missing_title\n",
      "1. feature 0 (0.000000)  Title\n"
     ]
    }
   ],
   "source": [
    "tree_impt = tree_model.feature_importances_\n",
    "# get sorted index \n",
    "sorted_idx_tree = np.argsort(tree_impt)\n",
    "# Print feature importance sorted by most important\n",
    "for f in xrange(len(X.columns),0,-1):\n",
    "    print(\"%d. feature %d (%f)  %s\" % (f , sorted_idx_tree[f-1], tree_impt[sorted_idx_tree[f-1]], X.columns[sorted_idx_tree[f-1]]))\n"
   ]
  },
  {
   "cell_type": "code",
   "execution_count": 299,
   "metadata": {
    "collapsed": false,
    "deletable": true,
    "editable": true
   },
   "outputs": [
    {
     "name": "stdout",
     "output_type": "stream",
     "text": [
      "[(3, 0.92177037957769048), (4, 0.89478702842436497), (5, 0.89896205978497734), (6, 0.90537398772490263), (7, 0.90053478822439215), (8, 0.90171451563420291), (9, 0.90600993960577259), (10, 0.89620703488008624), (11, 0.89678226195494337), (12, 0.8948763218990774), (13, 0.8851650109410395), (14, 0.88816000097531178), (15, 0.88014302189203342), (16, 0.87578653355120395), (17, 0.8733663796265605), (18, 0.86804181049861007), (19, 0.86704346338394678)]\n"
     ]
    }
   ],
   "source": [
    "'''\n",
    "    Cross validation using cross_val_score - one parameter at a time\n",
    "'''\n",
    "from sklearn.cross_validation import cross_val_score\n",
    "x = df_transformed\n",
    "y = df_us.IsConverted_2\n",
    "\n",
    "depth = []\n",
    "\n",
    "for i in range(3,20):\n",
    "    clf = tree.DecisionTreeClassifier(max_depth=i)\n",
    "    # Perform 7-fold cross validation \n",
    "    scores = cross_val_score(estimator=clf, X=x, y=y, cv=7, n_jobs=4)\n",
    "    depth.append((i,scores.mean()))\n",
    "print(depth)"
   ]
  },
  {
   "cell_type": "code",
   "execution_count": 301,
   "metadata": {
    "collapsed": false,
    "deletable": true,
    "editable": true
   },
   "outputs": [
    {
     "name": "stdout",
     "output_type": "stream",
     "text": [
      "(0.82215029041626331, {'min_samples_split': 5, 'max_depth': 3, 'min_samples_leaf': 5})\n"
     ]
    }
   ],
   "source": [
    "'''\n",
    "    Cross validation using Grid Search - for best parameters\n",
    "'''\n",
    "from sklearn.model_selection import GridSearchCV\n",
    "\n",
    "parameters = {'max_depth':range(3,20), 'min_samples_split':range(5, 20), 'min_samples_leaf':range(5,15) }\n",
    "clf = GridSearchCV(tree.DecisionTreeClassifier(), parameters, n_jobs=4)\n",
    "clf.fit(X=x, y=y)\n",
    "tree_model = clf.best_estimator_\n",
    "\n",
    "print (clf.best_score_, clf.best_params_) "
   ]
  },
  {
   "cell_type": "code",
   "execution_count": 314,
   "metadata": {
    "collapsed": false,
    "deletable": true,
    "editable": true
   },
   "outputs": [],
   "source": [
    "'''\n",
    "FEATURE IMPORTANCE USING DECISION TREE\n",
    "'''\n",
    "\n",
    "X, y = shuffle(df_transformed, df_us.IsConverted_2 , random_state=23)\n",
    "# split data into training and test sets\n",
    "X_train, X_test, y_train, y_test = cross_validation.train_test_split(X, y, test_size=0.20, random_state=1)\n",
    "\n",
    "\n",
    "# create decision tree model and fit to training data set to obtain feature importance\n",
    "tree_model = tree.DecisionTreeClassifier(max_depth = clf.best_params_['max_depth'], \n",
    "                                         min_samples_split = clf.best_params_['min_samples_split'],\n",
    "                                        min_samples_leaf= clf.best_params_['min_samples_leaf'])\n",
    "#tree_model = tree.DecisionTreeClassifier()\n",
    "tree_model.fit(X_train, y_train)\n",
    "# predict test \n",
    "tree_predicted = tree_model.predict(X_test)"
   ]
  },
  {
   "cell_type": "code",
   "execution_count": 316,
   "metadata": {
    "collapsed": false,
    "deletable": true,
    "editable": true
   },
   "outputs": [
    {
     "name": "stdout",
     "output_type": "stream",
     "text": [
      "32. feature 28 (0.956501)  title_score_bin\n",
      "31. feature 12 (0.028352)  LeadSource\n",
      "30. feature 21 (0.007868)  lead_source_updated\n",
      "29. feature 17 (0.007278)  OwnerId\n",
      "28. feature 7 (0.000000)  HasOptedOutofEmail\n",
      "27. feature 11 (0.000000)  Lead_Type__c\n",
      "26. feature 10 (0.000000)  Latest_Campaign__c\n",
      "25. feature 9 (0.000000)  Company\n",
      "24. feature 8 (0.000000)  Industry_Wave__c\n",
      "23. feature 31 (0.000000)  job_level\n",
      "22. feature 13 (0.000000)  LeanData__Reporting_Matched_Account__c\n",
      "21. feature 5 (0.000000)  University_Registered_User__c\n",
      "20. feature 4 (0.000000)  Community_Registered_User__c\n",
      "19. feature 3 (0.000000)  Communication_Status__c\n",
      "18. feature 2 (0.000000)  Eloqua_Score_Card__c\n",
      "17. feature 1 (0.000000)  CurrencyIsoCode\n",
      "16. feature 6 (0.000000)  University_Steward__c\n",
      "15. feature 15 (0.000000)  LeanData_Matched_US_Region__c\n",
      "14. feature 14 (0.000000)  LeanData_Matched_Account_Owner__c\n",
      "13. feature 30 (0.000000)  num_emp\n",
      "12. feature 16 (0.000000)  Managed_By__c\n",
      "11. feature 18 (0.000000)  lead_owner\n",
      "10. feature 19 (0.000000)  lead_owner_division\n",
      "9. feature 20 (0.000000)  lead_owner_dept\n",
      "8. feature 22 (0.000000)  has_leanData_acct\n",
      "7. feature 23 (0.000000)  has_phone\n",
      "6. feature 24 (0.000000)  email_sig\n",
      "5. feature 25 (0.000000)  email_blacklisted\n",
      "4. feature 26 (0.000000)  quarterCreated\n",
      "3. feature 27 (0.000000)  missing_firstname\n",
      "2. feature 29 (0.000000)  missing_title\n",
      "1. feature 0 (0.000000)  Title\n"
     ]
    }
   ],
   "source": [
    "tree_impt = tree_model.feature_importances_\n",
    "# get sorted index \n",
    "sorted_idx_tree = np.argsort(tree_impt)\n",
    "# Print feature importance sorted by most important\n",
    "for f in xrange(len(X.columns),0,-1):\n",
    "    print(\"%d. feature %d (%f)  %s\" % (f , sorted_idx_tree[f-1], tree_impt[sorted_idx_tree[f-1]], X.columns[sorted_idx_tree[f-1]]))\n"
   ]
  },
  {
   "cell_type": "code",
   "execution_count": 317,
   "metadata": {
    "collapsed": false,
    "deletable": true,
    "editable": true
   },
   "outputs": [
    {
     "name": "stdout",
     "output_type": "stream",
     "text": [
      "Decision Tree score is:  0.931034482759\n",
      "\n",
      "Classification Report:\n",
      "\n",
      "             precision    recall  f1-score   support\n",
      "\n",
      "          0       0.92      0.98      0.95      3365\n",
      "          1       0.95      0.83      0.89      1594\n",
      "\n",
      "avg / total       0.93      0.93      0.93      4959\n",
      "\n",
      "Confustion Matrix:\n",
      "                     NotConverted-Predicted  Converted-Predicted\n",
      "NotConverted-Actual                    3297                   68\n",
      "Converted-Actual                        274                 1320\n",
      "[[3297   68]\n",
      " [ 274 1320]]\n"
     ]
    }
   ],
   "source": [
    "# Decision Tree performance\n",
    "print \"Decision Tree score is: \", tree_model.score(X_test, y_test)\n",
    "\n",
    "# Classification Report\n",
    "print \"\\nClassification Report:\\n\"\n",
    "print (classification_report(y_test, tree_predicted))\n",
    "\n",
    "# Confustion Matrix\n",
    "print \"Confustion Matrix:\" \n",
    "print(get_confusion_matrix(y_test, tree_predicted))\n",
    "\n",
    "print confusion_matrix(y_true=y_test,y_pred=tree_predicted)"
   ]
  },
  {
   "cell_type": "code",
   "execution_count": 323,
   "metadata": {
    "collapsed": false,
    "deletable": true,
    "editable": true
   },
   "outputs": [],
   "source": [
    "import subprocess\n",
    "from sklearn.tree import export_graphviz\n",
    "import pydotplus \n",
    "from IPython.display import Image"
   ]
  },
  {
   "cell_type": "markdown",
   "metadata": {},
   "source": [
    "#### Visualize decision tree splitting based on which features"
   ]
  },
  {
   "cell_type": "code",
   "execution_count": 329,
   "metadata": {
    "collapsed": false
   },
   "outputs": [],
   "source": [
    "features = list(df_transformed.columns)\n",
    "# create dot file\n",
    "dot_data = tree.export_graphviz(tree_model, out_file=None, feature_names= features)"
   ]
  },
  {
   "cell_type": "code",
   "execution_count": 347,
   "metadata": {
    "collapsed": false
   },
   "outputs": [],
   "source": [
    "graph = pydotplus.graph_from_dot_data(dot_data.encode('utf-8')) "
   ]
  },
  {
   "cell_type": "code",
   "execution_count": 353,
   "metadata": {
    "collapsed": false
   },
   "outputs": [
    {
     "data": {
      "image/jpeg": "[encoded data removed]",
      "text/plain": [
       "<IPython.core.display.Image object>"
      ]
     },
     "execution_count": 353,
     "metadata": {},
     "output_type": "execute_result"
    }
   ],
   "source": [
    "\n",
    "Image(graph.create_jpeg()) "
   ]
  },
  {
   "cell_type": "code",
   "execution_count": null,
   "metadata": {
    "collapsed": true,
    "deletable": true,
    "editable": true
   },
   "outputs": [],
   "source": []
  },
  {
   "cell_type": "code",
   "execution_count": 434,
   "metadata": {
    "collapsed": true,
    "deletable": true,
    "editable": true
   },
   "outputs": [],
   "source": [
    "# from sklearn.preprocessing import LabelBinarizer\n",
    "lb_style = LabelBinarizer()"
   ]
  },
  {
   "cell_type": "code",
   "execution_count": 466,
   "metadata": {
    "collapsed": false,
    "deletable": true,
    "editable": true
   },
   "outputs": [
    {
     "name": "stdout",
     "output_type": "stream",
     "text": [
      "job_level 8\n",
      "   c-level  consultant  department head  director  individual contributer  \\\n",
      "0        0           0                0         0                       0   \n",
      "1        0           0                0         0                       0   \n",
      "2        0           0                0         0                       0   \n",
      "3        0           0                0         0                       0   \n",
      "4        0           0                0         0                       0   \n",
      "\n",
      "   manager  missing_job_level  vp  \n",
      "0        0                  1   0  \n",
      "1        0                  1   0  \n",
      "2        0                  1   0  \n",
      "3        1                  0   0  \n",
      "4        0                  1   0  \n",
      "lead_source_updated 3\n",
      "   Marketing  Sales  missing_lead_source_updated\n",
      "0          0      1                            0\n",
      "1          1      0                            0\n",
      "2          0      1                            0\n",
      "3          0      1                            0\n",
      "4          1      0                            0\n",
      "Lead_Type__c 8\n",
      "   Competitor  Consulting Partner  Customer  Prospect  Prospects  Researcher  \\\n",
      "0           0                   0         0         1          0           0   \n",
      "1           0                   0         0         1          0           0   \n",
      "2           0                   0         0         1          0           0   \n",
      "3           0                   0         0         1          0           0   \n",
      "4           0                   0         0         1          0           0   \n",
      "\n",
      "   Technology Partner  missing_Lead_Type__c  \n",
      "0                   0                     0  \n",
      "1                   0                     0  \n",
      "2                   0                     0  \n",
      "3                   0                     0  \n",
      "4                   0                     0  \n",
      "Eloqua_Score_Card__c 17\n",
      "   A1  A2  A3  A4  B1  B2  B3  B4  C1  C2  C3  C4  D1  D2  D3  D4  \\\n",
      "0   0   0   0   0   0   0   0   0   0   0   0   1   0   0   0   0   \n",
      "1   0   0   0   0   0   0   1   0   0   0   0   0   0   0   0   0   \n",
      "2   0   0   0   0   0   0   0   0   0   0   0   1   0   0   0   0   \n",
      "3   0   0   0   0   0   0   0   1   0   0   0   0   0   0   0   0   \n",
      "4   0   0   0   0   0   0   0   1   0   0   0   0   0   0   0   0   \n",
      "\n",
      "   missing_Eloqua_Score_Card__c  \n",
      "0                             0  \n",
      "1                             0  \n",
      "2                             0  \n",
      "3                             0  \n",
      "4                             0  \n",
      "num_emp 8\n",
      "   less_than_100  less_than_10k  less_than_1500  less_than_500  less_than_50k  \\\n",
      "0              0              0               0              0              1   \n",
      "1              0              0               0              0              0   \n",
      "2              0              1               0              0              0   \n",
      "3              0              1               0              0              0   \n",
      "4              0              0               0              0              0   \n",
      "\n",
      "   missing_emp  missing_num_emp  more_than_10k  \n",
      "0            0                0              0  \n",
      "1            1                0              0  \n",
      "2            0                0              0  \n",
      "3            0                0              0  \n",
      "4            0                0              1  \n"
     ]
    }
   ],
   "source": [
    "add_df = pd.DataFrame()\n",
    "cols_encode = ['job_level','lead_source_updated',\n",
    "               'Lead_Type__c','Eloqua_Score_Card__c','num_emp']\n",
    "for c in cols_encode:\n",
    "    lb_results = lb_style.fit_transform(df_transformed[c])\n",
    "    print c, len(lb_style.classes_)\n",
    "    temp = pd.DataFrame(lb_results, columns=lb_style.classes_)\n",
    "    print temp.head()\n",
    "    add_df = pd.concat([add_df, temp],axis=1)"
   ]
  },
  {
   "cell_type": "code",
   "execution_count": 462,
   "metadata": {
    "collapsed": false,
    "deletable": true,
    "editable": true
   },
   "outputs": [
    {
     "data": {
      "text/plain": [
       "(32278, 66)"
      ]
     },
     "execution_count": 462,
     "metadata": {},
     "output_type": "execute_result"
    }
   ],
   "source": [
    "add_df.shape"
   ]
  },
  {
   "cell_type": "code",
   "execution_count": 467,
   "metadata": {
    "collapsed": false,
    "deletable": true,
    "editable": true
   },
   "outputs": [
    {
     "name": "stdout",
     "output_type": "stream",
     "text": [
      "c-level\n",
      "consultant\n",
      "department head\n",
      "director\n",
      "individual contributer\n",
      "manager\n",
      "missing_job_level\n",
      "vp\n",
      "Marketing\n",
      "Sales\n",
      "missing_lead_source_updated\n",
      "Competitor\n",
      "Consulting Partner\n",
      "Customer\n",
      "Prospect\n",
      "Prospects\n",
      "Researcher\n",
      "Technology Partner\n",
      "missing_Lead_Type__c\n",
      "A1\n",
      "A2\n",
      "A3\n",
      "A4\n",
      "B1\n",
      "B2\n",
      "B3\n",
      "B4\n",
      "C1\n",
      "C2\n",
      "C3\n",
      "C4\n",
      "D1\n",
      "D2\n",
      "D3\n",
      "D4\n",
      "missing_Eloqua_Score_Card__c\n",
      "less_than_100\n",
      "less_than_10k\n",
      "less_than_1500\n",
      "less_than_500\n",
      "less_than_50k\n",
      "missing_emp\n",
      "missing_num_emp\n",
      "more_than_10k\n"
     ]
    }
   ],
   "source": [
    "# add columns\n",
    "for col in add_df.columns:\n",
    "    print col\n",
    "    df_transformed[str(col)] = add_df[col]\n",
    "    nulls = df_transformed[col].isnull().sum()\n",
    "    if nulls>0:\n",
    "        df_transformed[col] = df_transformed[col].fillna(2.0)"
   ]
  },
  {
   "cell_type": "code",
   "execution_count": 469,
   "metadata": {
    "collapsed": false,
    "deletable": true,
    "editable": true
   },
   "outputs": [
    {
     "name": "stdout",
     "output_type": "stream",
     "text": [
      "Index([                              u'LastName',\n",
      "                                        u'Title',\n",
      "                               u'Title_Score__c',\n",
      "                              u'CurrencyIsoCode',\n",
      "                         u'Eloqua_Score_Card__c',\n",
      "                      u'Communication_Status__c',\n",
      "                 u'Community_Registered_User__c',\n",
      "                u'University_Registered_User__c',\n",
      "                        u'University_Steward__c',\n",
      "                           u'HasOptedOutofEmail',\n",
      "                                     u'Industry',\n",
      "                             u'Industry_Wave__c',\n",
      "                                      u'Company',\n",
      "                           u'Latest_Campaign__c',\n",
      "                                 u'Lead_Type__c',\n",
      "                                   u'LeadSource',\n",
      "       u'LeanData__Reporting_Matched_Account__c',\n",
      "            u'LeanData_Matched_Account_Owner__c',\n",
      "                u'LeanData_Matched_US_Region__c',\n",
      "                                u'Managed_By__c',\n",
      "                                      u'OwnerId',\n",
      "                                   u'lead_owner',\n",
      "                          u'lead_owner_division',\n",
      "                              u'lead_owner_dept',\n",
      "                             u'grouped_industry',\n",
      "                          u'lead_source_updated',\n",
      "                            u'has_leanData_acct',\n",
      "                                    u'has_phone',\n",
      "                                    u'email_sig',\n",
      "                            u'email_blacklisted',\n",
      "                               u'quarterCreated',\n",
      "                         u'active_over_2wks_ago',\n",
      "                              u'title_score_bin',\n",
      "                            u'missing_firstname',\n",
      "                                u'missing_title',\n",
      "                                      u'num_emp',\n",
      "                                    u'job_level',\n",
      "                                      u'c-level',\n",
      "                                   u'consultant',\n",
      "                              u'department head',\n",
      "                                     u'director',\n",
      "                       u'individual contributer',\n",
      "                                      u'manager',\n",
      "                            u'missing_job_level',\n",
      "                                           u'vp',\n",
      "                         u'Center of Excellence',\n",
      "                                  u'Field Sales',\n",
      "                                          u'G&A',\n",
      "                                    u'Marketing',\n",
      "                                        u'Sales',\n",
      "                  u'missing_lead_source_updated',\n",
      "                                   u'Competitor',\n",
      "                           u'Consulting Partner',\n",
      "                                     u'Customer',\n",
      "                                     u'Prospect',\n",
      "                                    u'Prospects',\n",
      "                                   u'Researcher',\n",
      "                           u'Technology Partner',\n",
      "                         u'missing_Lead_Type__c',\n",
      "                                           u'A1',\n",
      "                                           u'A2',\n",
      "                                           u'A3',\n",
      "                                           u'A4',\n",
      "                                           u'B1',\n",
      "                                           u'B2',\n",
      "                                           u'B3',\n",
      "                                           u'B4',\n",
      "                                           u'C1',\n",
      "                                           u'C2',\n",
      "                                           u'C3',\n",
      "                                           u'C4',\n",
      "                                           u'D1',\n",
      "                                           u'D2',\n",
      "                                           u'D3',\n",
      "                                           u'D4',\n",
      "                 u'missing_Eloqua_Score_Card__c',\n",
      "                                u'less_than_100',\n",
      "                                u'less_than_10k',\n",
      "                               u'less_than_1500',\n",
      "                                u'less_than_500',\n",
      "                                u'less_than_50k',\n",
      "                                  u'missing_emp',\n",
      "                              u'missing_num_emp',\n",
      "                                u'more_than_10k'],\n",
      "      dtype='object')\n"
     ]
    },
    {
     "data": {
      "text/plain": [
       "0"
      ]
     },
     "execution_count": 469,
     "metadata": {},
     "output_type": "execute_result"
    }
   ],
   "source": [
    "print df_transformed.columns\n",
    "add_df[col].isnull().sum()"
   ]
  },
  {
   "cell_type": "code",
   "execution_count": 252,
   "metadata": {
    "collapsed": false,
    "deletable": true,
    "editable": true
   },
   "outputs": [
    {
     "data": {
      "text/html": [
       "<div>\n",
       "<style>\n",
       "    .dataframe thead tr:only-child th {\n",
       "        text-align: right;\n",
       "    }\n",
       "\n",
       "    .dataframe thead th {\n",
       "        text-align: left;\n",
       "    }\n",
       "\n",
       "    .dataframe tbody tr th {\n",
       "        vertical-align: top;\n",
       "    }\n",
       "</style>\n",
       "<table border=\"1\" class=\"dataframe\">\n",
       "  <thead>\n",
       "    <tr style=\"text-align: right;\">\n",
       "      <th></th>\n",
       "      <th>Title</th>\n",
       "      <th>CurrencyIsoCode</th>\n",
       "      <th>Eloqua_Score_Card__c</th>\n",
       "      <th>Communication_Status__c</th>\n",
       "      <th>Community_Registered_User__c</th>\n",
       "      <th>University_Registered_User__c</th>\n",
       "      <th>University_Steward__c</th>\n",
       "      <th>HasOptedOutofEmail</th>\n",
       "      <th>Industry_Wave__c</th>\n",
       "      <th>Company</th>\n",
       "      <th>...</th>\n",
       "      <th>has_leanData_acct</th>\n",
       "      <th>has_phone</th>\n",
       "      <th>email_sig</th>\n",
       "      <th>email_blacklisted</th>\n",
       "      <th>quarterCreated</th>\n",
       "      <th>missing_firstname</th>\n",
       "      <th>title_score_bin</th>\n",
       "      <th>missing_title</th>\n",
       "      <th>num_emp</th>\n",
       "      <th>job_level</th>\n",
       "    </tr>\n",
       "  </thead>\n",
       "  <tbody>\n",
       "    <tr>\n",
       "      <th>0</th>\n",
       "      <td>0.544</td>\n",
       "      <td>5</td>\n",
       "      <td>11</td>\n",
       "      <td>6</td>\n",
       "      <td>0</td>\n",
       "      <td>0</td>\n",
       "      <td>0</td>\n",
       "      <td>0</td>\n",
       "      <td>19</td>\n",
       "      <td>4.375</td>\n",
       "      <td>...</td>\n",
       "      <td>1</td>\n",
       "      <td>1</td>\n",
       "      <td>0.352</td>\n",
       "      <td>0</td>\n",
       "      <td>22</td>\n",
       "      <td>0</td>\n",
       "      <td>2</td>\n",
       "      <td>0</td>\n",
       "      <td>4</td>\n",
       "      <td>6</td>\n",
       "    </tr>\n",
       "    <tr>\n",
       "      <th>2</th>\n",
       "      <td>4.736</td>\n",
       "      <td>5</td>\n",
       "      <td>6</td>\n",
       "      <td>8</td>\n",
       "      <td>0</td>\n",
       "      <td>0</td>\n",
       "      <td>0</td>\n",
       "      <td>0</td>\n",
       "      <td>13</td>\n",
       "      <td>1.655</td>\n",
       "      <td>...</td>\n",
       "      <td>0</td>\n",
       "      <td>1</td>\n",
       "      <td>0.900</td>\n",
       "      <td>0</td>\n",
       "      <td>8</td>\n",
       "      <td>0</td>\n",
       "      <td>2</td>\n",
       "      <td>0</td>\n",
       "      <td>5</td>\n",
       "      <td>6</td>\n",
       "    </tr>\n",
       "    <tr>\n",
       "      <th>3</th>\n",
       "      <td>7.235</td>\n",
       "      <td>5</td>\n",
       "      <td>11</td>\n",
       "      <td>13</td>\n",
       "      <td>0</td>\n",
       "      <td>0</td>\n",
       "      <td>0</td>\n",
       "      <td>0</td>\n",
       "      <td>14</td>\n",
       "      <td>1.521</td>\n",
       "      <td>...</td>\n",
       "      <td>1</td>\n",
       "      <td>1</td>\n",
       "      <td>0.923</td>\n",
       "      <td>0</td>\n",
       "      <td>25</td>\n",
       "      <td>0</td>\n",
       "      <td>2</td>\n",
       "      <td>0</td>\n",
       "      <td>1</td>\n",
       "      <td>6</td>\n",
       "    </tr>\n",
       "    <tr>\n",
       "      <th>4</th>\n",
       "      <td>17.197</td>\n",
       "      <td>5</td>\n",
       "      <td>7</td>\n",
       "      <td>13</td>\n",
       "      <td>0</td>\n",
       "      <td>0</td>\n",
       "      <td>0</td>\n",
       "      <td>0</td>\n",
       "      <td>13</td>\n",
       "      <td>0.108</td>\n",
       "      <td>...</td>\n",
       "      <td>1</td>\n",
       "      <td>1</td>\n",
       "      <td>0.187</td>\n",
       "      <td>0</td>\n",
       "      <td>21</td>\n",
       "      <td>0</td>\n",
       "      <td>2</td>\n",
       "      <td>0</td>\n",
       "      <td>1</td>\n",
       "      <td>5</td>\n",
       "    </tr>\n",
       "    <tr>\n",
       "      <th>5</th>\n",
       "      <td>3.364</td>\n",
       "      <td>5</td>\n",
       "      <td>7</td>\n",
       "      <td>6</td>\n",
       "      <td>0</td>\n",
       "      <td>0</td>\n",
       "      <td>0</td>\n",
       "      <td>0</td>\n",
       "      <td>5</td>\n",
       "      <td>6.226</td>\n",
       "      <td>...</td>\n",
       "      <td>1</td>\n",
       "      <td>1</td>\n",
       "      <td>4.043</td>\n",
       "      <td>0</td>\n",
       "      <td>22</td>\n",
       "      <td>0</td>\n",
       "      <td>2</td>\n",
       "      <td>0</td>\n",
       "      <td>7</td>\n",
       "      <td>6</td>\n",
       "    </tr>\n",
       "  </tbody>\n",
       "</table>\n",
       "<p>5 rows × 32 columns</p>\n",
       "</div>"
      ],
      "text/plain": [
       "    Title  CurrencyIsoCode  Eloqua_Score_Card__c  Communication_Status__c  \\\n",
       "0   0.544                5                    11                        6   \n",
       "2   4.736                5                     6                        8   \n",
       "3   7.235                5                    11                       13   \n",
       "4  17.197                5                     7                       13   \n",
       "5   3.364                5                     7                        6   \n",
       "\n",
       "   Community_Registered_User__c  University_Registered_User__c  \\\n",
       "0                             0                              0   \n",
       "2                             0                              0   \n",
       "3                             0                              0   \n",
       "4                             0                              0   \n",
       "5                             0                              0   \n",
       "\n",
       "   University_Steward__c  HasOptedOutofEmail  Industry_Wave__c  Company  \\\n",
       "0                      0                   0                19    4.375   \n",
       "2                      0                   0                13    1.655   \n",
       "3                      0                   0                14    1.521   \n",
       "4                      0                   0                13    0.108   \n",
       "5                      0                   0                 5    6.226   \n",
       "\n",
       "     ...      has_leanData_acct  has_phone  email_sig  email_blacklisted  \\\n",
       "0    ...                      1          1      0.352                  0   \n",
       "2    ...                      0          1      0.900                  0   \n",
       "3    ...                      1          1      0.923                  0   \n",
       "4    ...                      1          1      0.187                  0   \n",
       "5    ...                      1          1      4.043                  0   \n",
       "\n",
       "   quarterCreated  missing_firstname  title_score_bin  missing_title  num_emp  \\\n",
       "0              22                  0                2              0        4   \n",
       "2               8                  0                2              0        5   \n",
       "3              25                  0                2              0        1   \n",
       "4              21                  0                2              0        1   \n",
       "5              22                  0                2              0        7   \n",
       "\n",
       "   job_level  \n",
       "0          6  \n",
       "2          6  \n",
       "3          6  \n",
       "4          5  \n",
       "5          6  \n",
       "\n",
       "[5 rows x 32 columns]"
      ]
     },
     "execution_count": 252,
     "metadata": {},
     "output_type": "execute_result"
    }
   ],
   "source": [
    "df_transformed.head()"
   ]
  },
  {
   "cell_type": "code",
   "execution_count": 471,
   "metadata": {
    "collapsed": false,
    "deletable": true,
    "editable": true
   },
   "outputs": [],
   "source": [
    "for x in cols_encode:\n",
    "    try:\n",
    "        df_transformed.drop(x,axis =1,inplace=True)\n",
    "    except:\n",
    "        print \"no column\", x"
   ]
  },
  {
   "cell_type": "code",
   "execution_count": 472,
   "metadata": {
    "collapsed": false,
    "deletable": true,
    "editable": true
   },
   "outputs": [
    {
     "data": {
      "text/plain": [
       "Index([                              u'LastName',\n",
       "                                        u'Title',\n",
       "                               u'Title_Score__c',\n",
       "                              u'CurrencyIsoCode',\n",
       "                      u'Communication_Status__c',\n",
       "                 u'Community_Registered_User__c',\n",
       "                u'University_Registered_User__c',\n",
       "                        u'University_Steward__c',\n",
       "                           u'HasOptedOutofEmail',\n",
       "                                     u'Industry',\n",
       "                             u'Industry_Wave__c',\n",
       "                                      u'Company',\n",
       "                           u'Latest_Campaign__c',\n",
       "                                   u'LeadSource',\n",
       "       u'LeanData__Reporting_Matched_Account__c',\n",
       "            u'LeanData_Matched_Account_Owner__c',\n",
       "                u'LeanData_Matched_US_Region__c',\n",
       "                                u'Managed_By__c',\n",
       "                                      u'OwnerId',\n",
       "                                   u'lead_owner',\n",
       "                          u'lead_owner_division',\n",
       "                              u'lead_owner_dept',\n",
       "                             u'grouped_industry',\n",
       "                            u'has_leanData_acct',\n",
       "                                    u'has_phone',\n",
       "                                    u'email_sig',\n",
       "                            u'email_blacklisted',\n",
       "                               u'quarterCreated',\n",
       "                         u'active_over_2wks_ago',\n",
       "                              u'title_score_bin',\n",
       "                            u'missing_firstname',\n",
       "                                u'missing_title',\n",
       "                                      u'c-level',\n",
       "                                   u'consultant',\n",
       "                              u'department head',\n",
       "                                     u'director',\n",
       "                       u'individual contributer',\n",
       "                                      u'manager',\n",
       "                            u'missing_job_level',\n",
       "                                           u'vp',\n",
       "                         u'Center of Excellence',\n",
       "                                  u'Field Sales',\n",
       "                                          u'G&A',\n",
       "                                    u'Marketing',\n",
       "                                        u'Sales',\n",
       "                  u'missing_lead_source_updated',\n",
       "                                   u'Competitor',\n",
       "                           u'Consulting Partner',\n",
       "                                     u'Customer',\n",
       "                                     u'Prospect',\n",
       "                                    u'Prospects',\n",
       "                                   u'Researcher',\n",
       "                           u'Technology Partner',\n",
       "                         u'missing_Lead_Type__c',\n",
       "                                           u'A1',\n",
       "                                           u'A2',\n",
       "                                           u'A3',\n",
       "                                           u'A4',\n",
       "                                           u'B1',\n",
       "                                           u'B2',\n",
       "                                           u'B3',\n",
       "                                           u'B4',\n",
       "                                           u'C1',\n",
       "                                           u'C2',\n",
       "                                           u'C3',\n",
       "                                           u'C4',\n",
       "                                           u'D1',\n",
       "                                           u'D2',\n",
       "                                           u'D3',\n",
       "                                           u'D4',\n",
       "                 u'missing_Eloqua_Score_Card__c',\n",
       "                                u'less_than_100',\n",
       "                                u'less_than_10k',\n",
       "                               u'less_than_1500',\n",
       "                                u'less_than_500',\n",
       "                                u'less_than_50k',\n",
       "                                  u'missing_emp',\n",
       "                              u'missing_num_emp',\n",
       "                                u'more_than_10k'],\n",
       "      dtype='object')"
      ]
     },
     "execution_count": 472,
     "metadata": {},
     "output_type": "execute_result"
    }
   ],
   "source": [
    "df_transformed.columns"
   ]
  },
  {
   "cell_type": "code",
   "execution_count": 473,
   "metadata": {
    "collapsed": false,
    "deletable": true,
    "editable": true
   },
   "outputs": [],
   "source": [
    "# find categorical columns to encode\n",
    "cat_columns = df_transformed.select_dtypes(include = ['object','category']).columns"
   ]
  },
  {
   "cell_type": "code",
   "execution_count": 474,
   "metadata": {
    "collapsed": false,
    "deletable": true,
    "editable": true
   },
   "outputs": [
    {
     "data": {
      "text/plain": [
       "Index([                              u'LastName',\n",
       "                                        u'Title',\n",
       "                              u'CurrencyIsoCode',\n",
       "                      u'Communication_Status__c',\n",
       "                 u'Community_Registered_User__c',\n",
       "                u'University_Registered_User__c',\n",
       "                        u'University_Steward__c',\n",
       "                           u'HasOptedOutofEmail',\n",
       "                                     u'Industry',\n",
       "                             u'Industry_Wave__c',\n",
       "                                      u'Company',\n",
       "                           u'Latest_Campaign__c',\n",
       "                                   u'LeadSource',\n",
       "       u'LeanData__Reporting_Matched_Account__c',\n",
       "            u'LeanData_Matched_Account_Owner__c',\n",
       "                u'LeanData_Matched_US_Region__c',\n",
       "                                u'Managed_By__c',\n",
       "                                      u'OwnerId',\n",
       "                                   u'lead_owner',\n",
       "                          u'lead_owner_division',\n",
       "                              u'lead_owner_dept',\n",
       "                             u'grouped_industry',\n",
       "                                    u'email_sig',\n",
       "                               u'quarterCreated',\n",
       "                              u'title_score_bin'],\n",
       "      dtype='object')"
      ]
     },
     "execution_count": 474,
     "metadata": {},
     "output_type": "execute_result"
    }
   ],
   "source": [
    "cat_columns"
   ]
  },
  {
   "cell_type": "code",
   "execution_count": 475,
   "metadata": {
    "collapsed": true,
    "deletable": true,
    "editable": true
   },
   "outputs": [],
   "source": [
    "le = LabelEncoder()\n",
    "# encode labels\n",
    "for col in cat_columns:\n",
    "    df_transformed[col] = le.fit_transform(df_transformed[col])\n"
   ]
  },
  {
   "cell_type": "code",
   "execution_count": 476,
   "metadata": {
    "collapsed": false,
    "deletable": true,
    "editable": true
   },
   "outputs": [
    {
     "data": {
      "text/plain": [
       "LastName                                    int64\n",
       "Title                                       int64\n",
       "Title_Score__c                              int64\n",
       "CurrencyIsoCode                             int64\n",
       "Communication_Status__c                     int64\n",
       "Community_Registered_User__c                int64\n",
       "University_Registered_User__c               int64\n",
       "University_Steward__c                       int64\n",
       "HasOptedOutofEmail                          int64\n",
       "Industry                                    int64\n",
       "Industry_Wave__c                            int64\n",
       "Company                                     int64\n",
       "Latest_Campaign__c                          int64\n",
       "LeadSource                                  int64\n",
       "LeanData__Reporting_Matched_Account__c      int64\n",
       "LeanData_Matched_Account_Owner__c           int64\n",
       "LeanData_Matched_US_Region__c               int64\n",
       "Managed_By__c                               int64\n",
       "OwnerId                                     int64\n",
       "lead_owner                                  int64\n",
       "lead_owner_division                         int64\n",
       "lead_owner_dept                             int64\n",
       "grouped_industry                            int64\n",
       "has_leanData_acct                           int64\n",
       "has_phone                                   int64\n",
       "email_sig                                   int64\n",
       "email_blacklisted                           int64\n",
       "quarterCreated                              int64\n",
       "active_over_2wks_ago                         bool\n",
       "title_score_bin                             int64\n",
       "                                           ...   \n",
       "Prospect                                  float64\n",
       "Prospects                                 float64\n",
       "Researcher                                float64\n",
       "Technology Partner                        float64\n",
       "missing_Lead_Type__c                      float64\n",
       "A1                                        float64\n",
       "A2                                        float64\n",
       "A3                                        float64\n",
       "A4                                        float64\n",
       "B1                                        float64\n",
       "B2                                        float64\n",
       "B3                                        float64\n",
       "B4                                        float64\n",
       "C1                                        float64\n",
       "C2                                        float64\n",
       "C3                                        float64\n",
       "C4                                        float64\n",
       "D1                                        float64\n",
       "D2                                        float64\n",
       "D3                                        float64\n",
       "D4                                        float64\n",
       "missing_Eloqua_Score_Card__c              float64\n",
       "less_than_100                             float64\n",
       "less_than_10k                             float64\n",
       "less_than_1500                            float64\n",
       "less_than_500                             float64\n",
       "less_than_50k                             float64\n",
       "missing_emp                               float64\n",
       "missing_num_emp                           float64\n",
       "more_than_10k                             float64\n",
       "Length: 79, dtype: object"
      ]
     },
     "execution_count": 476,
     "metadata": {},
     "output_type": "execute_result"
    }
   ],
   "source": [
    "df_transformed.dtypes"
   ]
  },
  {
   "cell_type": "code",
   "execution_count": 217,
   "metadata": {
    "collapsed": false,
    "deletable": true,
    "editable": true
   },
   "outputs": [
    {
     "data": {
      "text/plain": [
       "False"
      ]
     },
     "execution_count": 217,
     "metadata": {},
     "output_type": "execute_result"
    }
   ],
   "source": [
    "# make sure no nulls\n",
    "np.any(df_transformed.isnull())"
   ]
  },
  {
   "cell_type": "code",
   "execution_count": 478,
   "metadata": {
    "collapsed": false,
    "deletable": true,
    "editable": true
   },
   "outputs": [
    {
     "data": {
      "text/plain": [
       "18118"
      ]
     },
     "execution_count": 478,
     "metadata": {},
     "output_type": "execute_result"
    }
   ],
   "source": [
    "len(df_transformed.Title.unique()) #.iloc[0:10, 10:]"
   ]
  },
  {
   "cell_type": "code",
   "execution_count": 301,
   "metadata": {
    "collapsed": false,
    "deletable": true,
    "editable": true
   },
   "outputs": [
    {
     "data": {
      "text/plain": [
       "3276     481\n",
       "8154     395\n",
       "2542     322\n",
       "9546     314\n",
       "2198     282\n",
       "14806    194\n",
       "14145    188\n",
       "412      178\n",
       "5682     148\n",
       "5633     144\n",
       "Name: Title, dtype: int64"
      ]
     },
     "execution_count": 301,
     "metadata": {},
     "output_type": "execute_result"
    }
   ],
   "source": [
    "# TODO: better feature encoding as the difference in ranges may be affecting model\n",
    "df_transformed.Title.value_counts()[0:10]"
   ]
  },
  {
   "cell_type": "code",
   "execution_count": 253,
   "metadata": {
    "collapsed": false,
    "deletable": true,
    "editable": true
   },
   "outputs": [
    {
     "data": {
      "text/html": [
       "<div>\n",
       "<style>\n",
       "    .dataframe thead tr:only-child th {\n",
       "        text-align: right;\n",
       "    }\n",
       "\n",
       "    .dataframe thead th {\n",
       "        text-align: left;\n",
       "    }\n",
       "\n",
       "    .dataframe tbody tr th {\n",
       "        vertical-align: top;\n",
       "    }\n",
       "</style>\n",
       "<table border=\"1\" class=\"dataframe\">\n",
       "  <thead>\n",
       "    <tr style=\"text-align: right;\">\n",
       "      <th></th>\n",
       "      <th>Title</th>\n",
       "      <th>CurrencyIsoCode</th>\n",
       "      <th>Eloqua_Score_Card__c</th>\n",
       "      <th>Communication_Status__c</th>\n",
       "      <th>Community_Registered_User__c</th>\n",
       "      <th>University_Registered_User__c</th>\n",
       "      <th>University_Steward__c</th>\n",
       "      <th>HasOptedOutofEmail</th>\n",
       "      <th>Industry_Wave__c</th>\n",
       "      <th>Company</th>\n",
       "      <th>...</th>\n",
       "      <th>has_leanData_acct</th>\n",
       "      <th>has_phone</th>\n",
       "      <th>email_sig</th>\n",
       "      <th>email_blacklisted</th>\n",
       "      <th>quarterCreated</th>\n",
       "      <th>missing_firstname</th>\n",
       "      <th>title_score_bin</th>\n",
       "      <th>missing_title</th>\n",
       "      <th>num_emp</th>\n",
       "      <th>job_level</th>\n",
       "    </tr>\n",
       "  </thead>\n",
       "  <tbody>\n",
       "    <tr>\n",
       "      <th>0</th>\n",
       "      <td>0.544</td>\n",
       "      <td>5</td>\n",
       "      <td>11</td>\n",
       "      <td>6</td>\n",
       "      <td>0</td>\n",
       "      <td>0</td>\n",
       "      <td>0</td>\n",
       "      <td>0</td>\n",
       "      <td>19</td>\n",
       "      <td>4.375</td>\n",
       "      <td>...</td>\n",
       "      <td>1</td>\n",
       "      <td>1</td>\n",
       "      <td>0.352</td>\n",
       "      <td>0</td>\n",
       "      <td>22</td>\n",
       "      <td>0</td>\n",
       "      <td>2</td>\n",
       "      <td>0</td>\n",
       "      <td>4</td>\n",
       "      <td>6</td>\n",
       "    </tr>\n",
       "    <tr>\n",
       "      <th>2</th>\n",
       "      <td>4.736</td>\n",
       "      <td>5</td>\n",
       "      <td>6</td>\n",
       "      <td>8</td>\n",
       "      <td>0</td>\n",
       "      <td>0</td>\n",
       "      <td>0</td>\n",
       "      <td>0</td>\n",
       "      <td>13</td>\n",
       "      <td>1.655</td>\n",
       "      <td>...</td>\n",
       "      <td>0</td>\n",
       "      <td>1</td>\n",
       "      <td>0.900</td>\n",
       "      <td>0</td>\n",
       "      <td>8</td>\n",
       "      <td>0</td>\n",
       "      <td>2</td>\n",
       "      <td>0</td>\n",
       "      <td>5</td>\n",
       "      <td>6</td>\n",
       "    </tr>\n",
       "    <tr>\n",
       "      <th>3</th>\n",
       "      <td>7.235</td>\n",
       "      <td>5</td>\n",
       "      <td>11</td>\n",
       "      <td>13</td>\n",
       "      <td>0</td>\n",
       "      <td>0</td>\n",
       "      <td>0</td>\n",
       "      <td>0</td>\n",
       "      <td>14</td>\n",
       "      <td>1.521</td>\n",
       "      <td>...</td>\n",
       "      <td>1</td>\n",
       "      <td>1</td>\n",
       "      <td>0.923</td>\n",
       "      <td>0</td>\n",
       "      <td>25</td>\n",
       "      <td>0</td>\n",
       "      <td>2</td>\n",
       "      <td>0</td>\n",
       "      <td>1</td>\n",
       "      <td>6</td>\n",
       "    </tr>\n",
       "    <tr>\n",
       "      <th>4</th>\n",
       "      <td>17.197</td>\n",
       "      <td>5</td>\n",
       "      <td>7</td>\n",
       "      <td>13</td>\n",
       "      <td>0</td>\n",
       "      <td>0</td>\n",
       "      <td>0</td>\n",
       "      <td>0</td>\n",
       "      <td>13</td>\n",
       "      <td>0.108</td>\n",
       "      <td>...</td>\n",
       "      <td>1</td>\n",
       "      <td>1</td>\n",
       "      <td>0.187</td>\n",
       "      <td>0</td>\n",
       "      <td>21</td>\n",
       "      <td>0</td>\n",
       "      <td>2</td>\n",
       "      <td>0</td>\n",
       "      <td>1</td>\n",
       "      <td>5</td>\n",
       "    </tr>\n",
       "    <tr>\n",
       "      <th>5</th>\n",
       "      <td>3.364</td>\n",
       "      <td>5</td>\n",
       "      <td>7</td>\n",
       "      <td>6</td>\n",
       "      <td>0</td>\n",
       "      <td>0</td>\n",
       "      <td>0</td>\n",
       "      <td>0</td>\n",
       "      <td>5</td>\n",
       "      <td>6.226</td>\n",
       "      <td>...</td>\n",
       "      <td>1</td>\n",
       "      <td>1</td>\n",
       "      <td>4.043</td>\n",
       "      <td>0</td>\n",
       "      <td>22</td>\n",
       "      <td>0</td>\n",
       "      <td>2</td>\n",
       "      <td>0</td>\n",
       "      <td>7</td>\n",
       "      <td>6</td>\n",
       "    </tr>\n",
       "  </tbody>\n",
       "</table>\n",
       "<p>5 rows × 32 columns</p>\n",
       "</div>"
      ],
      "text/plain": [
       "    Title  CurrencyIsoCode  Eloqua_Score_Card__c  Communication_Status__c  \\\n",
       "0   0.544                5                    11                        6   \n",
       "2   4.736                5                     6                        8   \n",
       "3   7.235                5                    11                       13   \n",
       "4  17.197                5                     7                       13   \n",
       "5   3.364                5                     7                        6   \n",
       "\n",
       "   Community_Registered_User__c  University_Registered_User__c  \\\n",
       "0                             0                              0   \n",
       "2                             0                              0   \n",
       "3                             0                              0   \n",
       "4                             0                              0   \n",
       "5                             0                              0   \n",
       "\n",
       "   University_Steward__c  HasOptedOutofEmail  Industry_Wave__c  Company  \\\n",
       "0                      0                   0                19    4.375   \n",
       "2                      0                   0                13    1.655   \n",
       "3                      0                   0                14    1.521   \n",
       "4                      0                   0                13    0.108   \n",
       "5                      0                   0                 5    6.226   \n",
       "\n",
       "     ...      has_leanData_acct  has_phone  email_sig  email_blacklisted  \\\n",
       "0    ...                      1          1      0.352                  0   \n",
       "2    ...                      0          1      0.900                  0   \n",
       "3    ...                      1          1      0.923                  0   \n",
       "4    ...                      1          1      0.187                  0   \n",
       "5    ...                      1          1      4.043                  0   \n",
       "\n",
       "   quarterCreated  missing_firstname  title_score_bin  missing_title  num_emp  \\\n",
       "0              22                  0                2              0        4   \n",
       "2               8                  0                2              0        5   \n",
       "3              25                  0                2              0        1   \n",
       "4              21                  0                2              0        1   \n",
       "5              22                  0                2              0        7   \n",
       "\n",
       "   job_level  \n",
       "0          6  \n",
       "2          6  \n",
       "3          6  \n",
       "4          5  \n",
       "5          6  \n",
       "\n",
       "[5 rows x 32 columns]"
      ]
     },
     "execution_count": 253,
     "metadata": {},
     "output_type": "execute_result"
    }
   ],
   "source": [
    "df_transformed.head()"
   ]
  },
  {
   "cell_type": "code",
   "execution_count": 218,
   "metadata": {
    "collapsed": false,
    "deletable": true,
    "editable": true
   },
   "outputs": [
    {
     "ename": "ValueError",
     "evalue": "could not convert string to float: manager",
     "output_type": "error",
     "traceback": [
      "\u001b[0;31m---------------------------------------------------------------------------\u001b[0m",
      "\u001b[0;31mValueError\u001b[0m                                Traceback (most recent call last)",
      "\u001b[0;32m<ipython-input-218-1b8086b1d0ee>\u001b[0m in \u001b[0;36m<module>\u001b[0;34m()\u001b[0m\n\u001b[1;32m     17\u001b[0m \u001b[0mtree_model\u001b[0m \u001b[0;34m=\u001b[0m \u001b[0mtree\u001b[0m\u001b[0;34m.\u001b[0m\u001b[0mDecisionTreeClassifier\u001b[0m\u001b[0;34m(\u001b[0m\u001b[0mcriterion\u001b[0m\u001b[0;34m=\u001b[0m\u001b[0;34m'gini'\u001b[0m\u001b[0;34m)\u001b[0m\u001b[0;34m\u001b[0m\u001b[0m\n\u001b[1;32m     18\u001b[0m \u001b[0mtree_model\u001b[0m \u001b[0;34m=\u001b[0m \u001b[0mtree\u001b[0m\u001b[0;34m.\u001b[0m\u001b[0mDecisionTreeClassifier\u001b[0m\u001b[0;34m(\u001b[0m\u001b[0;34m)\u001b[0m\u001b[0;34m\u001b[0m\u001b[0m\n\u001b[0;32m---> 19\u001b[0;31m \u001b[0mtree_model\u001b[0m\u001b[0;34m.\u001b[0m\u001b[0mfit\u001b[0m\u001b[0;34m(\u001b[0m\u001b[0mX_train\u001b[0m\u001b[0;34m,\u001b[0m \u001b[0my_train\u001b[0m\u001b[0;34m)\u001b[0m\u001b[0;34m\u001b[0m\u001b[0m\n\u001b[0m\u001b[1;32m     20\u001b[0m \u001b[0;31m# predict test\u001b[0m\u001b[0;34m\u001b[0m\u001b[0;34m\u001b[0m\u001b[0m\n\u001b[1;32m     21\u001b[0m \u001b[0mtree_predicted\u001b[0m \u001b[0;34m=\u001b[0m \u001b[0mtree_model\u001b[0m\u001b[0;34m.\u001b[0m\u001b[0mpredict\u001b[0m\u001b[0;34m(\u001b[0m\u001b[0mX_test\u001b[0m\u001b[0;34m)\u001b[0m\u001b[0;34m\u001b[0m\u001b[0m\n",
      "\u001b[0;32m/Users/Gabi/.virtualenvs/analysis/lib/python2.7/site-packages/sklearn/tree/tree.pyc\u001b[0m in \u001b[0;36mfit\u001b[0;34m(self, X, y, sample_weight, check_input, X_idx_sorted)\u001b[0m\n\u001b[1;32m    737\u001b[0m             \u001b[0msample_weight\u001b[0m\u001b[0;34m=\u001b[0m\u001b[0msample_weight\u001b[0m\u001b[0;34m,\u001b[0m\u001b[0;34m\u001b[0m\u001b[0m\n\u001b[1;32m    738\u001b[0m             \u001b[0mcheck_input\u001b[0m\u001b[0;34m=\u001b[0m\u001b[0mcheck_input\u001b[0m\u001b[0;34m,\u001b[0m\u001b[0;34m\u001b[0m\u001b[0m\n\u001b[0;32m--> 739\u001b[0;31m             X_idx_sorted=X_idx_sorted)\n\u001b[0m\u001b[1;32m    740\u001b[0m         \u001b[0;32mreturn\u001b[0m \u001b[0mself\u001b[0m\u001b[0;34m\u001b[0m\u001b[0m\n\u001b[1;32m    741\u001b[0m \u001b[0;34m\u001b[0m\u001b[0m\n",
      "\u001b[0;32m/Users/Gabi/.virtualenvs/analysis/lib/python2.7/site-packages/sklearn/tree/tree.pyc\u001b[0m in \u001b[0;36mfit\u001b[0;34m(self, X, y, sample_weight, check_input, X_idx_sorted)\u001b[0m\n\u001b[1;32m    120\u001b[0m         \u001b[0mrandom_state\u001b[0m \u001b[0;34m=\u001b[0m \u001b[0mcheck_random_state\u001b[0m\u001b[0;34m(\u001b[0m\u001b[0mself\u001b[0m\u001b[0;34m.\u001b[0m\u001b[0mrandom_state\u001b[0m\u001b[0;34m)\u001b[0m\u001b[0;34m\u001b[0m\u001b[0m\n\u001b[1;32m    121\u001b[0m         \u001b[0;32mif\u001b[0m \u001b[0mcheck_input\u001b[0m\u001b[0;34m:\u001b[0m\u001b[0;34m\u001b[0m\u001b[0m\n\u001b[0;32m--> 122\u001b[0;31m             \u001b[0mX\u001b[0m \u001b[0;34m=\u001b[0m \u001b[0mcheck_array\u001b[0m\u001b[0;34m(\u001b[0m\u001b[0mX\u001b[0m\u001b[0;34m,\u001b[0m \u001b[0mdtype\u001b[0m\u001b[0;34m=\u001b[0m\u001b[0mDTYPE\u001b[0m\u001b[0;34m,\u001b[0m \u001b[0maccept_sparse\u001b[0m\u001b[0;34m=\u001b[0m\u001b[0;34m\"csc\"\u001b[0m\u001b[0;34m)\u001b[0m\u001b[0;34m\u001b[0m\u001b[0m\n\u001b[0m\u001b[1;32m    123\u001b[0m             \u001b[0my\u001b[0m \u001b[0;34m=\u001b[0m \u001b[0mcheck_array\u001b[0m\u001b[0;34m(\u001b[0m\u001b[0my\u001b[0m\u001b[0;34m,\u001b[0m \u001b[0mensure_2d\u001b[0m\u001b[0;34m=\u001b[0m\u001b[0mFalse\u001b[0m\u001b[0;34m,\u001b[0m \u001b[0mdtype\u001b[0m\u001b[0;34m=\u001b[0m\u001b[0mNone\u001b[0m\u001b[0;34m)\u001b[0m\u001b[0;34m\u001b[0m\u001b[0m\n\u001b[1;32m    124\u001b[0m             \u001b[0;32mif\u001b[0m \u001b[0missparse\u001b[0m\u001b[0;34m(\u001b[0m\u001b[0mX\u001b[0m\u001b[0;34m)\u001b[0m\u001b[0;34m:\u001b[0m\u001b[0;34m\u001b[0m\u001b[0m\n",
      "\u001b[0;32m/Users/Gabi/.virtualenvs/analysis/lib/python2.7/site-packages/sklearn/utils/validation.pyc\u001b[0m in \u001b[0;36mcheck_array\u001b[0;34m(array, accept_sparse, dtype, order, copy, force_all_finite, ensure_2d, allow_nd, ensure_min_samples, ensure_min_features, warn_on_dtype, estimator)\u001b[0m\n\u001b[1;32m    380\u001b[0m                                       force_all_finite)\n\u001b[1;32m    381\u001b[0m     \u001b[0;32melse\u001b[0m\u001b[0;34m:\u001b[0m\u001b[0;34m\u001b[0m\u001b[0m\n\u001b[0;32m--> 382\u001b[0;31m         \u001b[0marray\u001b[0m \u001b[0;34m=\u001b[0m \u001b[0mnp\u001b[0m\u001b[0;34m.\u001b[0m\u001b[0marray\u001b[0m\u001b[0;34m(\u001b[0m\u001b[0marray\u001b[0m\u001b[0;34m,\u001b[0m \u001b[0mdtype\u001b[0m\u001b[0;34m=\u001b[0m\u001b[0mdtype\u001b[0m\u001b[0;34m,\u001b[0m \u001b[0morder\u001b[0m\u001b[0;34m=\u001b[0m\u001b[0morder\u001b[0m\u001b[0;34m,\u001b[0m \u001b[0mcopy\u001b[0m\u001b[0;34m=\u001b[0m\u001b[0mcopy\u001b[0m\u001b[0;34m)\u001b[0m\u001b[0;34m\u001b[0m\u001b[0m\n\u001b[0m\u001b[1;32m    383\u001b[0m \u001b[0;34m\u001b[0m\u001b[0m\n\u001b[1;32m    384\u001b[0m         \u001b[0;32mif\u001b[0m \u001b[0mensure_2d\u001b[0m\u001b[0;34m:\u001b[0m\u001b[0;34m\u001b[0m\u001b[0m\n",
      "\u001b[0;31mValueError\u001b[0m: could not convert string to float: manager"
     ]
    }
   ],
   "source": [
    "# reshuffle data\n",
    "cols_drop = ['Title_Score__c'] #,'Industry','email_sig','lead_owner_dept']\n",
    "cols_drop = ['Title_Score__c','title_score_bin','email_sig','FirstName','LastName','email','LeadSource',\n",
    "             'grouped_industry', 'Industry',\n",
    "             'LeanData__Reporting_Matched_Account__c', 'OwnerId','Phone']\n",
    "#df_transformed = df_transformed.drop(cols_drop,axis=1)\n",
    "X, y = shuffle(df_transformed.drop(['LastName'], axis=1) , df_us.IsConverted_2 , random_state=23)\n",
    "\n",
    "'''\n",
    "FEATURE IMPORTANCE USING DECISION TREE\n",
    "'''\n",
    "# split data into training and test sets\n",
    "X_train, X_test, y_train, y_test = cross_validation.train_test_split(X, y, test_size=0.15, random_state=1)\n",
    "\n",
    "\n",
    "# create decision tree model and fit to training data set to obtain feature importance\n",
    "tree_model = tree.DecisionTreeClassifier(criterion='gini')\n",
    "tree_model = tree.DecisionTreeClassifier()\n",
    "tree_model.fit(X_train, y_train)\n",
    "# predict test \n",
    "tree_predicted = tree_model.predict(X_test)"
   ]
  },
  {
   "cell_type": "code",
   "execution_count": 481,
   "metadata": {
    "collapsed": false,
    "deletable": true,
    "editable": true
   },
   "outputs": [
    {
     "name": "stdout",
     "output_type": "stream",
     "text": [
      "78. feature 41 (0.787726)  G&A\n",
      "77. feature 27 (0.081994)  active_over_2wks_ago\n",
      "76. feature 26 (0.033616)  quarterCreated\n",
      "75. feature 12 (0.017723)  LeadSource\n",
      "74. feature 11 (0.008936)  Latest_Campaign__c\n",
      "73. feature 3 (0.007596)  Communication_Status__c\n",
      "72. feature 0 (0.007424)  Title\n",
      "71. feature 24 (0.005710)  email_sig\n",
      "70. feature 1 (0.005176)  Title_Score__c\n",
      "69. feature 13 (0.004375)  LeanData__Reporting_Matched_Account__c\n",
      "68. feature 20 (0.004260)  lead_owner_dept\n",
      "67. feature 16 (0.003680)  Managed_By__c\n",
      "66. feature 14 (0.003668)  LeanData_Matched_Account_Owner__c\n",
      "65. feature 21 (0.003142)  grouped_industry\n",
      "64. feature 18 (0.003103)  lead_owner\n",
      "63. feature 17 (0.002750)  OwnerId\n",
      "62. feature 10 (0.002632)  Company\n",
      "61. feature 19 (0.002187)  lead_owner_division\n",
      "60. feature 8 (0.001915)  Industry\n",
      "59. feature 15 (0.001515)  LeanData_Matched_US_Region__c\n",
      "58. feature 9 (0.001261)  Industry_Wave__c\n",
      "57. feature 52 (0.000974)  missing_Lead_Type__c\n",
      "56. feature 69 (0.000855)  missing_Eloqua_Score_Card__c\n",
      "55. feature 63 (0.000674)  C3\n",
      "54. feature 23 (0.000607)  has_phone\n",
      "53. feature 48 (0.000571)  Prospect\n",
      "52. feature 55 (0.000436)  A3\n",
      "51. feature 73 (0.000422)  less_than_500\n",
      "50. feature 46 (0.000413)  Consulting Partner\n",
      "49. feature 59 (0.000352)  B3\n",
      "48. feature 67 (0.000330)  D3\n",
      "47. feature 42 (0.000315)  Marketing\n",
      "46. feature 76 (0.000308)  missing_num_emp\n",
      "45. feature 60 (0.000292)  B4\n",
      "44. feature 32 (0.000276)  consultant\n",
      "43. feature 4 (0.000265)  Community_Registered_User__c\n",
      "42. feature 77 (0.000253)  more_than_10k\n",
      "41. feature 75 (0.000227)  missing_emp\n",
      "40. feature 68 (0.000210)  D4\n",
      "39. feature 38 (0.000206)  vp\n",
      "38. feature 43 (0.000200)  Sales\n",
      "37. feature 2 (0.000161)  CurrencyIsoCode\n",
      "36. feature 34 (0.000156)  director\n",
      "35. feature 28 (0.000146)  title_score_bin\n",
      "34. feature 6 (0.000132)  University_Steward__c\n",
      "33. feature 35 (0.000130)  individual contributer\n",
      "32. feature 25 (0.000127)  email_blacklisted\n",
      "31. feature 66 (0.000125)  D2\n",
      "30. feature 5 (0.000120)  University_Registered_User__c\n",
      "29. feature 64 (0.000119)  C4\n",
      "28. feature 71 (0.000111)  less_than_10k\n",
      "27. feature 57 (0.000069)  B1\n",
      "26. feature 58 (0.000028)  B2\n",
      "25. feature 70 (0.000000)  less_than_100\n",
      "24. feature 72 (0.000000)  less_than_1500\n",
      "23. feature 65 (0.000000)  D1\n",
      "22. feature 74 (0.000000)  less_than_50k\n",
      "21. feature 62 (0.000000)  C2\n",
      "20. feature 61 (0.000000)  C1\n",
      "19. feature 7 (0.000000)  HasOptedOutofEmail\n",
      "18. feature 40 (0.000000)  Field Sales\n",
      "17. feature 56 (0.000000)  A4\n",
      "16. feature 29 (0.000000)  missing_firstname\n",
      "15. feature 37 (0.000000)  missing_job_level\n",
      "14. feature 36 (0.000000)  manager\n",
      "13. feature 33 (0.000000)  department head\n",
      "12. feature 44 (0.000000)  missing_lead_source_updated\n",
      "11. feature 31 (0.000000)  c-level\n",
      "10. feature 30 (0.000000)  missing_title\n",
      "9. feature 45 (0.000000)  Competitor\n",
      "8. feature 54 (0.000000)  A2\n",
      "7. feature 47 (0.000000)  Customer\n",
      "6. feature 49 (0.000000)  Prospects\n",
      "5. feature 50 (0.000000)  Researcher\n",
      "4. feature 22 (0.000000)  has_leanData_acct\n",
      "3. feature 51 (0.000000)  Technology Partner\n",
      "2. feature 39 (0.000000)  Center of Excellence\n",
      "1. feature 53 (0.000000)  A1\n"
     ]
    }
   ],
   "source": [
    "tree_impt = tree_model.feature_importances_\n",
    "# get sorted index \n",
    "sorted_idx_tree = np.argsort(tree_impt)\n",
    "# Print feature importance sorted by most important\n",
    "for f in xrange(len(X.columns),0,-1):\n",
    "    print(\"%d. feature %d (%f)  %s\" % (f , sorted_idx_tree[f-1], tree_impt[sorted_idx_tree[f-1]], X.columns[sorted_idx_tree[f-1]]))\n"
   ]
  },
  {
   "cell_type": "code",
   "execution_count": 482,
   "metadata": {
    "collapsed": false,
    "deletable": true,
    "editable": true
   },
   "outputs": [
    {
     "name": "stdout",
     "output_type": "stream",
     "text": [
      "Decision Tree score is:  0.983064849236\n",
      "\n",
      "Classification Report:\n",
      "\n",
      "             precision    recall  f1-score   support\n",
      "\n",
      "          0       0.99      0.99      0.99      3321\n",
      "          1       0.97      0.98      0.97      1521\n",
      "\n",
      "avg / total       0.98      0.98      0.98      4842\n",
      "\n",
      "Confustion Matrix:\n",
      "                     NotConverted-Predicted  Converted-Predicted\n",
      "NotConverted-Actual                    3273                   48\n",
      "Converted-Actual                         34                 1487\n",
      "[[3273   48]\n",
      " [  34 1487]]\n"
     ]
    }
   ],
   "source": [
    "# Decision Tree performance\n",
    "print \"Decision Tree score is: \", tree_model.score(X_test, y_test)\n",
    "\n",
    "# Classification Report\n",
    "print \"\\nClassification Report:\\n\"\n",
    "print (classification_report(y_test, tree_predicted))\n",
    "\n",
    "# Confustion Matrix\n",
    "print \"Confustion Matrix:\" \n",
    "print(get_confusion_matrix(y_test, tree_predicted))\n",
    "\n",
    "print confusion_matrix(y_true=y_test,y_pred=tree_predicted)"
   ]
  },
  {
   "cell_type": "code",
   "execution_count": 483,
   "metadata": {
    "collapsed": true,
    "deletable": true,
    "editable": true
   },
   "outputs": [],
   "source": [
    "# reshuffle data\n",
    "X, y = shuffle(df_transformed ,df_us.IsConverted, random_state=13)"
   ]
  },
  {
   "cell_type": "code",
   "execution_count": 484,
   "metadata": {
    "collapsed": false,
    "deletable": true,
    "editable": true
   },
   "outputs": [],
   "source": [
    "'''\n",
    "Random Forest Classifier \n",
    "'''\n",
    "X_train, X_test, y_train, y_test = cross_validation.train_test_split(X, y, test_size=0.20, random_state=1)\n",
    "\n",
    "rf = RandomForestClassifier(n_estimators = 1500)\n",
    "rf.fit(X_train, y_train)\n",
    "rf_predicted = rf.predict(X_test)"
   ]
  },
  {
   "cell_type": "code",
   "execution_count": 485,
   "metadata": {
    "collapsed": false,
    "deletable": true,
    "editable": true
   },
   "outputs": [
    {
     "name": "stdout",
     "output_type": "stream",
     "text": [
      "Random Forest score is:  0.986988847584\n",
      "\n",
      "Classification Report:\n",
      "\n",
      "             precision    recall  f1-score   support\n",
      "\n",
      "      false       0.99      0.99      0.99      4401\n",
      "       true       0.99      0.97      0.98      2055\n",
      "\n",
      "avg / total       0.99      0.99      0.99      6456\n",
      "\n",
      "Confustion Matrix:\n",
      "                     NotConverted-Predicted  Converted-Predicted\n",
      "NotConverted-Actual                    4378                   23\n",
      "Converted-Actual                         61                 1994\n"
     ]
    }
   ],
   "source": [
    "# Random Forest performance\n",
    "print \"Random Forest score is: \", rf.score(X_test, y_test)\n",
    "\n",
    "# Classification Report\n",
    "print \"\\nClassification Report:\\n\"\n",
    "print (classification_report(y_test, rf_predicted))\n",
    "\n",
    "# Confustion Matrix\n",
    "print \"Confustion Matrix:\" \n",
    "print(get_confusion_matrix(y_test, rf_predicted))"
   ]
  },
  {
   "cell_type": "code",
   "execution_count": null,
   "metadata": {
    "collapsed": true,
    "deletable": true,
    "editable": true
   },
   "outputs": [],
   "source": [
    "## select best columns and see how it does\n",
    "best_cols = [X.columns[sorted_idx_tree[i-1]] for i in xrange(12,6,-1)]"
   ]
  },
  {
   "cell_type": "markdown",
   "metadata": {
    "deletable": true,
    "editable": true
   },
   "source": [
    "### Model 2: Logistic Regression"
   ]
  },
  {
   "cell_type": "code",
   "execution_count": 488,
   "metadata": {
    "collapsed": false,
    "deletable": true,
    "editable": true
   },
   "outputs": [],
   "source": [
    "# reshuffle data\n",
    "X, y = shuffle(df_transformed ,df_us.IsConverted, random_state=1)"
   ]
  },
  {
   "cell_type": "code",
   "execution_count": 525,
   "metadata": {
    "collapsed": false,
    "deletable": true,
    "editable": true
   },
   "outputs": [
    {
     "name": "stdout",
     "output_type": "stream",
     "text": [
      "\n",
      "C is  100000.0 Logistic Regression score is:  0.972893432466\n",
      "\n",
      "Classification Report:\n",
      "\n",
      "             precision    recall  f1-score   support\n",
      "\n",
      "      false       0.98      0.99      0.98      4432\n",
      "       true       0.97      0.95      0.96      2024\n",
      "\n",
      "avg / total       0.97      0.97      0.97      6456\n",
      "\n",
      "Confustion Matrix:\n",
      "                     NotConverted-Predicted  Converted-Predicted\n",
      "NotConverted-Actual                    4368                   64\n",
      "Converted-Actual                        111                 1913\n"
     ]
    }
   ],
   "source": [
    "'''\n",
    "    Logistic Regression\n",
    "'''\n",
    "# training and testing\n",
    "X_train, X_test, y_train, y_test = cross_validation.train_test_split(X, y, test_size=0.2, random_state=1)\n",
    "\n",
    "logreg = LogisticRegression(random_state=123, verbose=1)\n",
    "\n",
    "#Cs = np.logspace(-7, 5, num=15)\n",
    "logreg = LogisticRegression(C=10.0)\n",
    "logreg.fit(X_train,y_train)\n",
    "logreg_predicted = logreg.predict(X_test)\n",
    "# Logistic Regression performance\n",
    "print \"\\nC is \", c, \"Logistic Regression score is: \", logreg.score(X_test, y_test)\n",
    "\n",
    "# Classification Report\n",
    "print \"\\nClassification Report:\\n\"\n",
    "print (classification_report(y_test, logreg_predicted))\n",
    "\n",
    "# Confustion Matrix\n",
    "print \"Confustion Matrix:\" \n",
    "print(get_confusion_matrix(y_test, logreg_predicted))"
   ]
  },
  {
   "cell_type": "code",
   "execution_count": 526,
   "metadata": {
    "collapsed": false,
    "deletable": true,
    "editable": true
   },
   "outputs": [
    {
     "data": {
      "text/plain": [
       "array([[ 1.00001002,  0.99996262,  0.98523904,  0.91122379,  0.90644929,\n",
       "         1.06421355,  0.97519062,  0.99030628,  0.93345828,  0.99658376,\n",
       "         1.0714618 ,  1.00000563,  0.99558422,  1.07221197,  1.00003776,\n",
       "         1.00327178,  0.91291061,  0.61345716,  1.03092771,  1.00464474,\n",
       "         1.18448198,  0.68998318,  0.740787  ,  1.36523431,  1.07827606,\n",
       "         1.00004399,  0.70894479,  1.05728393,  0.0156038 ,  0.98726016,\n",
       "         1.        ,  1.        ,  1.07290638,  1.05697982,  1.072314  ,\n",
       "         1.06139017,  1.07579906,  1.04756412,  0.95218581,  1.06331645,\n",
       "         1.06294453,  1.06312987,  1.07490969,  1.04313252,  0.94081056,\n",
       "         1.10376122,  1.03782788,  0.95074782,  1.12640515,  0.91519394,\n",
       "         1.06322241,  1.07193746,  1.12254967,  1.13168094,  1.06353597,\n",
       "         1.05955709,  1.14598912,  1.04346076,  1.06362187,  1.06857241,\n",
       "         1.37656219,  0.82565286,  1.05973125,  1.01597981,  1.50804381,\n",
       "         0.86734863,  1.05970431,  1.0447166 ,  1.1793231 ,  0.95388432,\n",
       "         0.83855639,  1.00629162,  1.0258564 ,  1.04900239,  1.02756599,\n",
       "         0.91259117,  0.95723463,  2.28953771,  0.66173252]])"
      ]
     },
     "execution_count": 526,
     "metadata": {},
     "output_type": "execute_result"
    }
   ],
   "source": [
    "np.exp(logreg.coef_)"
   ]
  },
  {
   "cell_type": "code",
   "execution_count": 523,
   "metadata": {
    "collapsed": false,
    "deletable": true,
    "editable": true
   },
   "outputs": [
    {
     "data": {
      "text/plain": [
       "1"
      ]
     },
     "execution_count": 523,
     "metadata": {},
     "output_type": "execute_result"
    }
   ],
   "source": [
    "logreg.verbose = 1\n",
    "logreg.verbose"
   ]
  }
 ],
 "metadata": {
  "kernelspec": {
   "display_name": "Python 2",
   "language": "python",
   "name": "python2"
  },
  "language_info": {
   "codemirror_mode": {
    "name": "ipython",
    "version": 2
   },
   "file_extension": ".py",
   "mimetype": "text/x-python",
   "name": "python",
   "nbconvert_exporter": "python",
   "pygments_lexer": "ipython2",
   "version": "2.7.11"
  }
 },
 "nbformat": 4,
 "nbformat_minor": 2
}
